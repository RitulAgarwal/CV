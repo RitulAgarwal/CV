{
  "cells": [
    {
      "cell_type": "code",
      "execution_count": 1,
      "metadata": {
        "colab": {
          "base_uri": "https://localhost:8080/"
        },
        "id": "Eqkhp8Sg7x59",
        "outputId": "64c4067b-9e17-4792-db14-69a34b57b915"
      },
      "outputs": [
        {
          "output_type": "stream",
          "name": "stdout",
          "text": [
            "Downloading data from https://storage.googleapis.com/tensorflow/keras-applications/vgg16/vgg16_weights_tf_dim_ordering_tf_kernels_notop.h5\n",
            "58889256/58889256 [==============================] - 0s 0us/step\n",
            "done 1\n",
            "Epoch 1/5\n"
          ]
        },
        {
          "output_type": "stream",
          "name": "stderr",
          "text": [
            "<ipython-input-1-769860e4c279>:44: UserWarning: `Model.fit_generator` is deprecated and will be removed in a future version. Please use `Model.fit`, which supports generators.\n",
            "  model.fit_generator(imageGenerator(),steps_per_epoch=50,epochs = 5)\n"
          ]
        },
        {
          "output_type": "stream",
          "name": "stdout",
          "text": [
            "50/50 [==============================] - 23s 169ms/step - loss: 0.6779\n",
            "Epoch 2/5\n",
            "50/50 [==============================] - 9s 170ms/step - loss: 0.5174\n",
            "Epoch 3/5\n",
            "50/50 [==============================] - 9s 172ms/step - loss: 0.5094\n",
            "Epoch 4/5\n",
            "50/50 [==============================] - 9s 172ms/step - loss: 0.5045\n",
            "Epoch 5/5\n",
            "50/50 [==============================] - 9s 175ms/step - loss: 0.5079\n"
          ]
        },
        {
          "output_type": "execute_result",
          "data": {
            "text/plain": [
              "<keras.src.callbacks.History at 0x79c80e4990f0>"
            ]
          },
          "metadata": {},
          "execution_count": 1
        }
      ],
      "source": [
        "import tensorflow as tf\n",
        "import numpy as np\n",
        "import matplotlib.pyplot as plt\n",
        "from tensorflow.keras.layers import Flatten, Dense\n",
        "from tensorflow.keras.models import Model\n",
        "from tensorflow.keras.optimizers import Adam,SGD\n",
        "from matplotlib.patches import Rectangle\n",
        "\n",
        "def imageGenerator(batch_size=64):\n",
        "    #generate batches of images and targets\n",
        "    while True:\n",
        "        #each epoch has no_of_batches\n",
        "        for _ in range(50):\n",
        "            X = np.zeros((batch_size,100,100,3))\n",
        "            Y = np.zeros((batch_size,4))\n",
        "\n",
        "            for i in range(batch_size):\n",
        "                # make the boxes and store their location in target\n",
        "                row0 = np.random.randint(90)\n",
        "                col0 = np.random.randint(90)\n",
        "             #atleast 10 size ke box ka scope dene ke liye humne yaha 90 liya h\n",
        "                row1 = np.random.randint(row0,100)\n",
        "                col1 = np.random.randint(col0,100)\n",
        "                X[i,row0:row1, col0:col1,:] = 1\n",
        "                Y[i,0] = row0/100\n",
        "                Y[i,1] = col0/100\n",
        "                Y[i,2] = (row1-row0)/100\n",
        "                Y[i,3] = (col1-col0)/100\n",
        "\n",
        "            yield X,Y\n",
        "\n",
        "vgg = tf.keras.applications.VGG16(\n",
        "    input_shape=[100,100,3],include_top=False,weights='imagenet'\n",
        ")\n",
        "\n",
        "x = Flatten()(vgg.output)\n",
        "x = Dense(4,activation='sigmoid')(x)\n",
        "model = Model(vgg.input,x)\n",
        "\n",
        "model.compile(loss='binary_crossentropy',optimizer = 'adam')\n",
        "\n",
        "print('done 1')\n",
        "\n",
        "model.fit_generator(imageGenerator(),steps_per_epoch=50,epochs = 5)\n",
        "\n"
      ]
    },
    {
      "cell_type": "code",
      "execution_count": 2,
      "metadata": {
        "id": "VjvAW4Ekz9DC"
      },
      "outputs": [],
      "source": [
        "\n",
        "def plot_preds():\n",
        "    x = np.zeros((100,100,3))\n",
        "    row0 = np.random.randint(90)\n",
        "    col0 = np.random.randint(90)\n",
        "    row1 = np.random.randint(row0,100)\n",
        "    col1 = np.random.randint(col0,100)\n",
        "    x[row0:row1,col0:col1,:]= 1\n",
        "    X = np.expand_dims(x,0)\n",
        "    p = model.predict(X)[0]\n",
        "    fig,ax= plt.subplots(1)\n",
        "    ax.imshow(x)\n",
        "    rect = Rectangle(\n",
        "        (p[1]*100,p[0]*100 ),\n",
        "        p[3]*100,p[2]*100,linewidth = 1,edgecolor='r'  )\n",
        "    ax.add_patch(rect)\n",
        "    plt.show()\n"
      ]
    },
    {
      "cell_type": "code",
      "execution_count": 3,
      "metadata": {
        "id": "oko4nECoz-VQ",
        "colab": {
          "base_uri": "https://localhost:8080/",
          "height": 451
        },
        "outputId": "a454bbcf-e3bf-4d63-f9aa-82b185fd40d4"
      },
      "outputs": [
        {
          "output_type": "stream",
          "name": "stdout",
          "text": [
            "1/1 [==============================] - 1s 923ms/step\n"
          ]
        },
        {
          "output_type": "display_data",
          "data": {
            "text/plain": [
              "<Figure size 640x480 with 1 Axes>"
            ],
            "image/png": "[encoded data removed]"
          },
          "metadata": {}
        }
      ],
      "source": [
        "\n",
        "plot_preds()\n"
      ]
    },
    {
      "cell_type": "code",
      "execution_count": null,
      "metadata": {
        "id": "SI1vfHK2z-mR"
      },
      "outputs": [],
      "source": []
    }
  ],
  "metadata": {
    "colab": {
      "provenance": [],
      "gpuType": "T4"
    },
    "kernelspec": {
      "display_name": "Python 3",
      "name": "python3"
    },
    "language_info": {
      "name": "python"
    },
    "accelerator": "GPU"
  },
  "nbformat": 4,
  "nbformat_minor": 0
}