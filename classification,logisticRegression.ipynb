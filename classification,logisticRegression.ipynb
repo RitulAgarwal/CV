{
  "nbformat": 4,
  "nbformat_minor": 0,
  "metadata": {
    "colab": {
      "provenance": []
    },
    "kernelspec": {
      "name": "python3",
      "display_name": "Python 3"
    },
    "language_info": {
      "name": "python"
    }
  },
  "cells": [
    {
      "cell_type": "code",
      "source": [
        "import tensorflow as tf"
      ],
      "metadata": {
        "id": "Q6YC5B-8Mi7N"
      },
      "execution_count": 1,
      "outputs": []
    },
    {
      "cell_type": "code",
      "source": [
        "from sklearn.datasets import load_breast_cancer"
      ],
      "metadata": {
        "id": "sMApNN0-Mobc"
      },
      "execution_count": 2,
      "outputs": []
    },
    {
      "cell_type": "code",
      "source": [
        "data = load_breast_cancer()"
      ],
      "metadata": {
        "id": "KLW4H8FyMuiu"
      },
      "execution_count": 3,
      "outputs": []
    },
    {
      "cell_type": "code",
      "source": [
        "data"
      ],
      "metadata": {
        "colab": {
          "base_uri": "https://localhost:8080/"
        },
        "id": "H6i5T6SCMxfV",
        "outputId": "91ccaa8d-5e3e-4f91-cb3b-e17b63d39084"
      },
      "execution_count": 4,
      "outputs": [
        {
          "output_type": "execute_result",
          "data": {
            "text/plain": [
              "{'data': array([[1.799e+01, 1.038e+01, 1.228e+02, ..., 2.654e-01, 4.601e-01,\n",
              "         1.189e-01],\n",
              "        [2.057e+01, 1.777e+01, 1.329e+02, ..., 1.860e-01, 2.750e-01,\n",
              "         8.902e-02],\n",
              "        [1.969e+01, 2.125e+01, 1.300e+02, ..., 2.430e-01, 3.613e-01,\n",
              "         8.758e-02],\n",
              "        ...,\n",
              "        [1.660e+01, 2.808e+01, 1.083e+02, ..., 1.418e-01, 2.218e-01,\n",
              "         7.820e-02],\n",
              "        [2.060e+01, 2.933e+01, 1.401e+02, ..., 2.650e-01, 4.087e-01,\n",
              "         1.240e-01],\n",
              "        [7.760e+00, 2.454e+01, 4.792e+01, ..., 0.000e+00, 2.871e-01,\n",
              "         7.039e-02]]),\n",
              " 'target': array([0, 0, 0, 0, 0, 0, 0, 0, 0, 0, 0, 0, 0, 0, 0, 0, 0, 0, 0, 1, 1, 1,\n",
              "        0, 0, 0, 0, 0, 0, 0, 0, 0, 0, 0, 0, 0, 0, 0, 1, 0, 0, 0, 0, 0, 0,\n",
              "        0, 0, 1, 0, 1, 1, 1, 1, 1, 0, 0, 1, 0, 0, 1, 1, 1, 1, 0, 1, 0, 0,\n",
              "        1, 1, 1, 1, 0, 1, 0, 0, 1, 0, 1, 0, 0, 1, 1, 1, 0, 0, 1, 0, 0, 0,\n",
              "        1, 1, 1, 0, 1, 1, 0, 0, 1, 1, 1, 0, 0, 1, 1, 1, 1, 0, 1, 1, 0, 1,\n",
              "        1, 1, 1, 1, 1, 1, 1, 0, 0, 0, 1, 0, 0, 1, 1, 1, 0, 0, 1, 0, 1, 0,\n",
              "        0, 1, 0, 0, 1, 1, 0, 1, 1, 0, 1, 1, 1, 1, 0, 1, 1, 1, 1, 1, 1, 1,\n",
              "        1, 1, 0, 1, 1, 1, 1, 0, 0, 1, 0, 1, 1, 0, 0, 1, 1, 0, 0, 1, 1, 1,\n",
              "        1, 0, 1, 1, 0, 0, 0, 1, 0, 1, 0, 1, 1, 1, 0, 1, 1, 0, 0, 1, 0, 0,\n",
              "        0, 0, 1, 0, 0, 0, 1, 0, 1, 0, 1, 1, 0, 1, 0, 0, 0, 0, 1, 1, 0, 0,\n",
              "        1, 1, 1, 0, 1, 1, 1, 1, 1, 0, 0, 1, 1, 0, 1, 1, 0, 0, 1, 0, 1, 1,\n",
              "        1, 1, 0, 1, 1, 1, 1, 1, 0, 1, 0, 0, 0, 0, 0, 0, 0, 0, 0, 0, 0, 0,\n",
              "        0, 0, 1, 1, 1, 1, 1, 1, 0, 1, 0, 1, 1, 0, 1, 1, 0, 1, 0, 0, 1, 1,\n",
              "        1, 1, 1, 1, 1, 1, 1, 1, 1, 1, 1, 0, 1, 1, 0, 1, 0, 1, 1, 1, 1, 1,\n",
              "        1, 1, 1, 1, 1, 1, 1, 1, 1, 0, 1, 1, 1, 0, 1, 0, 1, 1, 1, 1, 0, 0,\n",
              "        0, 1, 1, 1, 1, 0, 1, 0, 1, 0, 1, 1, 1, 0, 1, 1, 1, 1, 1, 1, 1, 0,\n",
              "        0, 0, 1, 1, 1, 1, 1, 1, 1, 1, 1, 1, 1, 0, 0, 1, 0, 0, 0, 1, 0, 0,\n",
              "        1, 1, 1, 1, 1, 0, 1, 1, 1, 1, 1, 0, 1, 1, 1, 0, 1, 1, 0, 0, 1, 1,\n",
              "        1, 1, 1, 1, 0, 1, 1, 1, 1, 1, 1, 1, 0, 1, 1, 1, 1, 1, 0, 1, 1, 0,\n",
              "        1, 1, 1, 1, 1, 1, 1, 1, 1, 1, 1, 1, 0, 1, 0, 0, 1, 0, 1, 1, 1, 1,\n",
              "        1, 0, 1, 1, 0, 1, 0, 1, 1, 0, 1, 0, 1, 1, 1, 1, 1, 1, 1, 1, 0, 0,\n",
              "        1, 1, 1, 1, 1, 1, 0, 1, 1, 1, 1, 1, 1, 1, 1, 1, 1, 0, 1, 1, 1, 1,\n",
              "        1, 1, 1, 0, 1, 0, 1, 1, 0, 1, 1, 1, 1, 1, 0, 0, 1, 0, 1, 0, 1, 1,\n",
              "        1, 1, 1, 0, 1, 1, 0, 1, 0, 1, 0, 0, 1, 1, 1, 0, 1, 1, 1, 1, 1, 1,\n",
              "        1, 1, 1, 1, 1, 0, 1, 0, 0, 1, 1, 1, 1, 1, 1, 1, 1, 1, 1, 1, 1, 1,\n",
              "        1, 1, 1, 1, 1, 1, 1, 1, 1, 1, 1, 1, 0, 0, 0, 0, 0, 0, 1]),\n",
              " 'frame': None,\n",
              " 'target_names': array(['malignant', 'benign'], dtype='<U9'),\n",
              " 'DESCR': '.. _breast_cancer_dataset:\\n\\nBreast cancer wisconsin (diagnostic) dataset\\n--------------------------------------------\\n\\n**Data Set Characteristics:**\\n\\n    :Number of Instances: 569\\n\\n    :Number of Attributes: 30 numeric, predictive attributes and the class\\n\\n    :Attribute Information:\\n        - radius (mean of distances from center to points on the perimeter)\\n        - texture (standard deviation of gray-scale values)\\n        - perimeter\\n        - area\\n        - smoothness (local variation in radius lengths)\\n        - compactness (perimeter^2 / area - 1.0)\\n        - concavity (severity of concave portions of the contour)\\n        - concave points (number of concave portions of the contour)\\n        - symmetry\\n        - fractal dimension (\"coastline approximation\" - 1)\\n\\n        The mean, standard error, and \"worst\" or largest (mean of the three\\n        worst/largest values) of these features were computed for each image,\\n        resulting in 30 features.  For instance, field 0 is Mean Radius, field\\n        10 is Radius SE, field 20 is Worst Radius.\\n\\n        - class:\\n                - WDBC-Malignant\\n                - WDBC-Benign\\n\\n    :Summary Statistics:\\n\\n    ===================================== ====== ======\\n                                           Min    Max\\n    ===================================== ====== ======\\n    radius (mean):                        6.981  28.11\\n    texture (mean):                       9.71   39.28\\n    perimeter (mean):                     43.79  188.5\\n    area (mean):                          143.5  2501.0\\n    smoothness (mean):                    0.053  0.163\\n    compactness (mean):                   0.019  0.345\\n    concavity (mean):                     0.0    0.427\\n    concave points (mean):                0.0    0.201\\n    symmetry (mean):                      0.106  0.304\\n    fractal dimension (mean):             0.05   0.097\\n    radius (standard error):              0.112  2.873\\n    texture (standard error):             0.36   4.885\\n    perimeter (standard error):           0.757  21.98\\n    area (standard error):                6.802  542.2\\n    smoothness (standard error):          0.002  0.031\\n    compactness (standard error):         0.002  0.135\\n    concavity (standard error):           0.0    0.396\\n    concave points (standard error):      0.0    0.053\\n    symmetry (standard error):            0.008  0.079\\n    fractal dimension (standard error):   0.001  0.03\\n    radius (worst):                       7.93   36.04\\n    texture (worst):                      12.02  49.54\\n    perimeter (worst):                    50.41  251.2\\n    area (worst):                         185.2  4254.0\\n    smoothness (worst):                   0.071  0.223\\n    compactness (worst):                  0.027  1.058\\n    concavity (worst):                    0.0    1.252\\n    concave points (worst):               0.0    0.291\\n    symmetry (worst):                     0.156  0.664\\n    fractal dimension (worst):            0.055  0.208\\n    ===================================== ====== ======\\n\\n    :Missing Attribute Values: None\\n\\n    :Class Distribution: 212 - Malignant, 357 - Benign\\n\\n    :Creator:  Dr. William H. Wolberg, W. Nick Street, Olvi L. Mangasarian\\n\\n    :Donor: Nick Street\\n\\n    :Date: November, 1995\\n\\nThis is a copy of UCI ML Breast Cancer Wisconsin (Diagnostic) datasets.\\nhttps://goo.gl/U2Uwz2\\n\\nFeatures are computed from a digitized image of a fine needle\\naspirate (FNA) of a breast mass.  They describe\\ncharacteristics of the cell nuclei present in the image.\\n\\nSeparating plane described above was obtained using\\nMultisurface Method-Tree (MSM-T) [K. P. Bennett, \"Decision Tree\\nConstruction Via Linear Programming.\" Proceedings of the 4th\\nMidwest Artificial Intelligence and Cognitive Science Society,\\npp. 97-101, 1992], a classification method which uses linear\\nprogramming to construct a decision tree.  Relevant features\\nwere selected using an exhaustive search in the space of 1-4\\nfeatures and 1-3 separating planes.\\n\\nThe actual linear program used to obtain the separating plane\\nin the 3-dimensional space is that described in:\\n[K. P. Bennett and O. L. Mangasarian: \"Robust Linear\\nProgramming Discrimination of Two Linearly Inseparable Sets\",\\nOptimization Methods and Software 1, 1992, 23-34].\\n\\nThis database is also available through the UW CS ftp server:\\n\\nftp ftp.cs.wisc.edu\\ncd math-prog/cpo-dataset/machine-learn/WDBC/\\n\\n.. topic:: References\\n\\n   - W.N. Street, W.H. Wolberg and O.L. Mangasarian. Nuclear feature extraction \\n     for breast tumor diagnosis. IS&T/SPIE 1993 International Symposium on \\n     Electronic Imaging: Science and Technology, volume 1905, pages 861-870,\\n     San Jose, CA, 1993.\\n   - O.L. Mangasarian, W.N. Street and W.H. Wolberg. Breast cancer diagnosis and \\n     prognosis via linear programming. Operations Research, 43(4), pages 570-577, \\n     July-August 1995.\\n   - W.H. Wolberg, W.N. Street, and O.L. Mangasarian. Machine learning techniques\\n     to diagnose breast cancer from fine-needle aspirates. Cancer Letters 77 (1994) \\n     163-171.',\n",
              " 'feature_names': array(['mean radius', 'mean texture', 'mean perimeter', 'mean area',\n",
              "        'mean smoothness', 'mean compactness', 'mean concavity',\n",
              "        'mean concave points', 'mean symmetry', 'mean fractal dimension',\n",
              "        'radius error', 'texture error', 'perimeter error', 'area error',\n",
              "        'smoothness error', 'compactness error', 'concavity error',\n",
              "        'concave points error', 'symmetry error',\n",
              "        'fractal dimension error', 'worst radius', 'worst texture',\n",
              "        'worst perimeter', 'worst area', 'worst smoothness',\n",
              "        'worst compactness', 'worst concavity', 'worst concave points',\n",
              "        'worst symmetry', 'worst fractal dimension'], dtype='<U23'),\n",
              " 'filename': 'breast_cancer.csv',\n",
              " 'data_module': 'sklearn.datasets.data'}"
            ]
          },
          "metadata": {},
          "execution_count": 4
        }
      ]
    },
    {
      "cell_type": "code",
      "source": [
        "data.data.shape"
      ],
      "metadata": {
        "colab": {
          "base_uri": "https://localhost:8080/"
        },
        "id": "V1TJpW11Mx3O",
        "outputId": "5d9edd3b-ec63-48fc-a452-3117fdc61df0"
      },
      "execution_count": 5,
      "outputs": [
        {
          "output_type": "execute_result",
          "data": {
            "text/plain": [
              "(569, 30)"
            ]
          },
          "metadata": {},
          "execution_count": 5
        }
      ]
    },
    {
      "cell_type": "code",
      "source": [
        "type(data)"
      ],
      "metadata": {
        "colab": {
          "base_uri": "https://localhost:8080/"
        },
        "id": "8BO51y1NM7-U",
        "outputId": "7d37bb78-1b0e-4770-dc97-6a91d0958c94"
      },
      "execution_count": 6,
      "outputs": [
        {
          "output_type": "execute_result",
          "data": {
            "text/plain": [
              "sklearn.utils._bunch.Bunch"
            ]
          },
          "metadata": {},
          "execution_count": 6
        }
      ]
    },
    {
      "cell_type": "code",
      "source": [
        "data.keys()"
      ],
      "metadata": {
        "colab": {
          "base_uri": "https://localhost:8080/"
        },
        "id": "7hxsec6pM8uB",
        "outputId": "372ac05a-b15e-4aaa-a581-390e8cbc42b3"
      },
      "execution_count": 7,
      "outputs": [
        {
          "output_type": "execute_result",
          "data": {
            "text/plain": [
              "dict_keys(['data', 'target', 'frame', 'target_names', 'DESCR', 'feature_names', 'filename', 'data_module'])"
            ]
          },
          "metadata": {},
          "execution_count": 7
        }
      ]
    },
    {
      "cell_type": "code",
      "source": [
        "data.target_names"
      ],
      "metadata": {
        "colab": {
          "base_uri": "https://localhost:8080/"
        },
        "id": "LJsP0efEM9bt",
        "outputId": "7dec7d4f-eadc-4245-9128-4db5aac6775d"
      },
      "execution_count": 8,
      "outputs": [
        {
          "output_type": "execute_result",
          "data": {
            "text/plain": [
              "array(['malignant', 'benign'], dtype='<U9')"
            ]
          },
          "metadata": {},
          "execution_count": 8
        }
      ]
    },
    {
      "cell_type": "code",
      "source": [
        "data.data.shape"
      ],
      "metadata": {
        "colab": {
          "base_uri": "https://localhost:8080/"
        },
        "id": "Mc6CtRtZNE0k",
        "outputId": "5e2ac470-22ab-4b4c-982e-3e0d63d295dd"
      },
      "execution_count": 9,
      "outputs": [
        {
          "output_type": "execute_result",
          "data": {
            "text/plain": [
              "(569, 30)"
            ]
          },
          "metadata": {},
          "execution_count": 9
        }
      ]
    },
    {
      "cell_type": "code",
      "source": [
        "data.target.shape"
      ],
      "metadata": {
        "colab": {
          "base_uri": "https://localhost:8080/"
        },
        "id": "2uaGZ2PJNJy0",
        "outputId": "38de27b7-75ca-4748-c5d8-a767944a79d3"
      },
      "execution_count": 10,
      "outputs": [
        {
          "output_type": "execute_result",
          "data": {
            "text/plain": [
              "(569,)"
            ]
          },
          "metadata": {},
          "execution_count": 10
        }
      ]
    },
    {
      "cell_type": "code",
      "source": [
        "data.feature_names"
      ],
      "metadata": {
        "colab": {
          "base_uri": "https://localhost:8080/"
        },
        "id": "nQIsQnoyNMOo",
        "outputId": "d576ad8f-a338-4ecd-f53f-beceb0d67055"
      },
      "execution_count": 11,
      "outputs": [
        {
          "output_type": "execute_result",
          "data": {
            "text/plain": [
              "array(['mean radius', 'mean texture', 'mean perimeter', 'mean area',\n",
              "       'mean smoothness', 'mean compactness', 'mean concavity',\n",
              "       'mean concave points', 'mean symmetry', 'mean fractal dimension',\n",
              "       'radius error', 'texture error', 'perimeter error', 'area error',\n",
              "       'smoothness error', 'compactness error', 'concavity error',\n",
              "       'concave points error', 'symmetry error',\n",
              "       'fractal dimension error', 'worst radius', 'worst texture',\n",
              "       'worst perimeter', 'worst area', 'worst smoothness',\n",
              "       'worst compactness', 'worst concavity', 'worst concave points',\n",
              "       'worst symmetry', 'worst fractal dimension'], dtype='<U23')"
            ]
          },
          "metadata": {},
          "execution_count": 11
        }
      ]
    },
    {
      "cell_type": "code",
      "source": [
        "from sklearn.model_selection import train_test_split"
      ],
      "metadata": {
        "id": "sJX0jVocNpKn"
      },
      "execution_count": 12,
      "outputs": []
    },
    {
      "cell_type": "code",
      "source": [
        "X_train,X_test,Y_train, Y_test = train_test_split(data.data,data.target,test_size= 0.33)"
      ],
      "metadata": {
        "id": "nL_4TRRJNtpg"
      },
      "execution_count": 13,
      "outputs": []
    },
    {
      "cell_type": "code",
      "source": [
        "X_train.shape"
      ],
      "metadata": {
        "colab": {
          "base_uri": "https://localhost:8080/"
        },
        "id": "gtumOGQlODNs",
        "outputId": "8e58981b-012b-4638-9b35-b15746e0dc69"
      },
      "execution_count": 14,
      "outputs": [
        {
          "output_type": "execute_result",
          "data": {
            "text/plain": [
              "(381, 30)"
            ]
          },
          "metadata": {},
          "execution_count": 14
        }
      ]
    },
    {
      "cell_type": "code",
      "source": [
        "N,D = X_train.shape"
      ],
      "metadata": {
        "id": "VRBJ5-sGOEoI"
      },
      "execution_count": 15,
      "outputs": []
    },
    {
      "cell_type": "code",
      "source": [
        "from sklearn.preprocessing import StandardScaler"
      ],
      "metadata": {
        "id": "bQNguvSgOHVo"
      },
      "execution_count": 16,
      "outputs": []
    },
    {
      "cell_type": "code",
      "source": [
        "scaler = StandardScaler()"
      ],
      "metadata": {
        "id": "TG3v-VwaOL_T"
      },
      "execution_count": 17,
      "outputs": []
    },
    {
      "cell_type": "code",
      "source": [
        "X_train = scaler.fit_transform(X_train)\n",
        "X_test = scaler.transform(X_test)"
      ],
      "metadata": {
        "id": "NKMHIuv5OTcO"
      },
      "execution_count": 18,
      "outputs": []
    },
    {
      "cell_type": "code",
      "source": [
        "model = tf.keras.models.Sequential([\n",
        "    tf.keras.layers.Input(shape=(D,)),\n",
        "    tf.keras.layers.Dense(1,activation='sigmoid')\n",
        "])"
      ],
      "metadata": {
        "id": "P9QhiubaOXfL"
      },
      "execution_count": 19,
      "outputs": []
    },
    {
      "cell_type": "code",
      "source": [
        "model.compile(optimizer='adam',loss='binary_crossentropy',metrics=['accuracy'])"
      ],
      "metadata": {
        "id": "WuG12_WIe4qd"
      },
      "execution_count": 20,
      "outputs": []
    },
    {
      "cell_type": "code",
      "source": [
        "r = model.fit(X_train,Y_train,validation_data=(X_test,Y_test),epochs=100)"
      ],
      "metadata": {
        "colab": {
          "base_uri": "https://localhost:8080/"
        },
        "id": "6YubH_Mxfr8C",
        "outputId": "838859bc-d91a-4dc6-afff-d6c26d1ad41c"
      },
      "execution_count": 21,
      "outputs": [
        {
          "output_type": "stream",
          "name": "stdout",
          "text": [
            "Epoch 1/100\n",
            "12/12 [==============================] - 2s 54ms/step - loss: 0.9467 - accuracy: 0.3255 - val_loss: 0.8863 - val_accuracy: 0.3670\n",
            "Epoch 2/100\n",
            "12/12 [==============================] - 0s 17ms/step - loss: 0.8458 - accuracy: 0.3911 - val_loss: 0.7958 - val_accuracy: 0.4681\n",
            "Epoch 3/100\n",
            "12/12 [==============================] - 0s 18ms/step - loss: 0.7562 - accuracy: 0.4672 - val_loss: 0.7162 - val_accuracy: 0.5160\n",
            "Epoch 4/100\n",
            "12/12 [==============================] - 0s 30ms/step - loss: 0.6791 - accuracy: 0.5538 - val_loss: 0.6471 - val_accuracy: 0.5957\n",
            "Epoch 5/100\n",
            "12/12 [==============================] - 0s 22ms/step - loss: 0.6130 - accuracy: 0.6404 - val_loss: 0.5891 - val_accuracy: 0.6862\n",
            "Epoch 6/100\n",
            "12/12 [==============================] - 0s 18ms/step - loss: 0.5573 - accuracy: 0.7349 - val_loss: 0.5407 - val_accuracy: 0.7394\n",
            "Epoch 7/100\n",
            "12/12 [==============================] - 0s 35ms/step - loss: 0.5105 - accuracy: 0.8084 - val_loss: 0.5005 - val_accuracy: 0.7926\n",
            "Epoch 8/100\n",
            "12/12 [==============================] - 0s 33ms/step - loss: 0.4721 - accuracy: 0.8399 - val_loss: 0.4665 - val_accuracy: 0.8404\n",
            "Epoch 9/100\n",
            "12/12 [==============================] - 0s 35ms/step - loss: 0.4399 - accuracy: 0.8688 - val_loss: 0.4376 - val_accuracy: 0.8670\n",
            "Epoch 10/100\n",
            "12/12 [==============================] - 1s 46ms/step - loss: 0.4126 - accuracy: 0.8845 - val_loss: 0.4128 - val_accuracy: 0.8723\n",
            "Epoch 11/100\n",
            "12/12 [==============================] - 1s 50ms/step - loss: 0.3892 - accuracy: 0.8871 - val_loss: 0.3913 - val_accuracy: 0.8830\n",
            "Epoch 12/100\n",
            "12/12 [==============================] - 0s 25ms/step - loss: 0.3690 - accuracy: 0.8976 - val_loss: 0.3726 - val_accuracy: 0.8936\n",
            "Epoch 13/100\n",
            "12/12 [==============================] - 0s 31ms/step - loss: 0.3514 - accuracy: 0.9081 - val_loss: 0.3560 - val_accuracy: 0.8989\n",
            "Epoch 14/100\n",
            "12/12 [==============================] - 0s 27ms/step - loss: 0.3360 - accuracy: 0.9108 - val_loss: 0.3410 - val_accuracy: 0.9043\n",
            "Epoch 15/100\n",
            "12/12 [==============================] - 0s 27ms/step - loss: 0.3221 - accuracy: 0.9134 - val_loss: 0.3276 - val_accuracy: 0.8989\n",
            "Epoch 16/100\n",
            "12/12 [==============================] - 0s 27ms/step - loss: 0.3096 - accuracy: 0.9160 - val_loss: 0.3157 - val_accuracy: 0.9043\n",
            "Epoch 17/100\n",
            "12/12 [==============================] - 0s 21ms/step - loss: 0.2984 - accuracy: 0.9160 - val_loss: 0.3048 - val_accuracy: 0.9149\n",
            "Epoch 18/100\n",
            "12/12 [==============================] - 0s 23ms/step - loss: 0.2882 - accuracy: 0.9160 - val_loss: 0.2949 - val_accuracy: 0.9149\n",
            "Epoch 19/100\n",
            "12/12 [==============================] - 0s 31ms/step - loss: 0.2787 - accuracy: 0.9186 - val_loss: 0.2859 - val_accuracy: 0.9149\n",
            "Epoch 20/100\n",
            "12/12 [==============================] - 0s 23ms/step - loss: 0.2703 - accuracy: 0.9213 - val_loss: 0.2774 - val_accuracy: 0.9255\n",
            "Epoch 21/100\n",
            "12/12 [==============================] - 0s 20ms/step - loss: 0.2621 - accuracy: 0.9213 - val_loss: 0.2699 - val_accuracy: 0.9255\n",
            "Epoch 22/100\n",
            "12/12 [==============================] - 0s 23ms/step - loss: 0.2548 - accuracy: 0.9213 - val_loss: 0.2627 - val_accuracy: 0.9255\n",
            "Epoch 23/100\n",
            "12/12 [==============================] - 0s 22ms/step - loss: 0.2479 - accuracy: 0.9265 - val_loss: 0.2560 - val_accuracy: 0.9255\n",
            "Epoch 24/100\n",
            "12/12 [==============================] - 0s 9ms/step - loss: 0.2415 - accuracy: 0.9291 - val_loss: 0.2499 - val_accuracy: 0.9255\n",
            "Epoch 25/100\n",
            "12/12 [==============================] - 0s 7ms/step - loss: 0.2355 - accuracy: 0.9291 - val_loss: 0.2441 - val_accuracy: 0.9255\n",
            "Epoch 26/100\n",
            "12/12 [==============================] - 0s 13ms/step - loss: 0.2299 - accuracy: 0.9344 - val_loss: 0.2387 - val_accuracy: 0.9255\n",
            "Epoch 27/100\n",
            "12/12 [==============================] - 0s 8ms/step - loss: 0.2245 - accuracy: 0.9396 - val_loss: 0.2336 - val_accuracy: 0.9255\n",
            "Epoch 28/100\n",
            "12/12 [==============================] - 0s 10ms/step - loss: 0.2195 - accuracy: 0.9396 - val_loss: 0.2288 - val_accuracy: 0.9255\n",
            "Epoch 29/100\n",
            "12/12 [==============================] - 0s 13ms/step - loss: 0.2147 - accuracy: 0.9396 - val_loss: 0.2242 - val_accuracy: 0.9255\n",
            "Epoch 30/100\n",
            "12/12 [==============================] - 0s 19ms/step - loss: 0.2103 - accuracy: 0.9396 - val_loss: 0.2200 - val_accuracy: 0.9255\n",
            "Epoch 31/100\n",
            "12/12 [==============================] - 0s 10ms/step - loss: 0.2061 - accuracy: 0.9396 - val_loss: 0.2159 - val_accuracy: 0.9309\n",
            "Epoch 32/100\n",
            "12/12 [==============================] - 0s 22ms/step - loss: 0.2019 - accuracy: 0.9423 - val_loss: 0.2120 - val_accuracy: 0.9309\n",
            "Epoch 33/100\n",
            "12/12 [==============================] - 0s 18ms/step - loss: 0.1981 - accuracy: 0.9423 - val_loss: 0.2084 - val_accuracy: 0.9309\n",
            "Epoch 34/100\n",
            "12/12 [==============================] - 0s 8ms/step - loss: 0.1944 - accuracy: 0.9449 - val_loss: 0.2049 - val_accuracy: 0.9309\n",
            "Epoch 35/100\n",
            "12/12 [==============================] - 0s 13ms/step - loss: 0.1909 - accuracy: 0.9449 - val_loss: 0.2016 - val_accuracy: 0.9309\n",
            "Epoch 36/100\n",
            "12/12 [==============================] - 0s 32ms/step - loss: 0.1875 - accuracy: 0.9449 - val_loss: 0.1985 - val_accuracy: 0.9309\n",
            "Epoch 37/100\n",
            "12/12 [==============================] - 0s 20ms/step - loss: 0.1844 - accuracy: 0.9449 - val_loss: 0.1955 - val_accuracy: 0.9309\n",
            "Epoch 38/100\n",
            "12/12 [==============================] - 0s 27ms/step - loss: 0.1813 - accuracy: 0.9475 - val_loss: 0.1927 - val_accuracy: 0.9362\n",
            "Epoch 39/100\n",
            "12/12 [==============================] - 0s 23ms/step - loss: 0.1784 - accuracy: 0.9475 - val_loss: 0.1899 - val_accuracy: 0.9362\n",
            "Epoch 40/100\n",
            "12/12 [==============================] - 0s 25ms/step - loss: 0.1755 - accuracy: 0.9475 - val_loss: 0.1873 - val_accuracy: 0.9362\n",
            "Epoch 41/100\n",
            "12/12 [==============================] - 0s 31ms/step - loss: 0.1728 - accuracy: 0.9501 - val_loss: 0.1848 - val_accuracy: 0.9362\n",
            "Epoch 42/100\n",
            "12/12 [==============================] - 0s 23ms/step - loss: 0.1703 - accuracy: 0.9501 - val_loss: 0.1825 - val_accuracy: 0.9362\n",
            "Epoch 43/100\n",
            "12/12 [==============================] - 0s 22ms/step - loss: 0.1678 - accuracy: 0.9501 - val_loss: 0.1801 - val_accuracy: 0.9362\n",
            "Epoch 44/100\n",
            "12/12 [==============================] - 0s 19ms/step - loss: 0.1654 - accuracy: 0.9528 - val_loss: 0.1779 - val_accuracy: 0.9362\n",
            "Epoch 45/100\n",
            "12/12 [==============================] - 0s 20ms/step - loss: 0.1631 - accuracy: 0.9528 - val_loss: 0.1757 - val_accuracy: 0.9362\n",
            "Epoch 46/100\n",
            "12/12 [==============================] - 1s 45ms/step - loss: 0.1608 - accuracy: 0.9554 - val_loss: 0.1737 - val_accuracy: 0.9362\n",
            "Epoch 47/100\n",
            "12/12 [==============================] - 1s 45ms/step - loss: 0.1587 - accuracy: 0.9554 - val_loss: 0.1718 - val_accuracy: 0.9362\n",
            "Epoch 48/100\n",
            "12/12 [==============================] - 0s 33ms/step - loss: 0.1566 - accuracy: 0.9580 - val_loss: 0.1699 - val_accuracy: 0.9362\n",
            "Epoch 49/100\n",
            "12/12 [==============================] - 0s 40ms/step - loss: 0.1546 - accuracy: 0.9580 - val_loss: 0.1680 - val_accuracy: 0.9362\n",
            "Epoch 50/100\n",
            "12/12 [==============================] - 0s 19ms/step - loss: 0.1527 - accuracy: 0.9580 - val_loss: 0.1663 - val_accuracy: 0.9362\n",
            "Epoch 51/100\n",
            "12/12 [==============================] - 0s 20ms/step - loss: 0.1508 - accuracy: 0.9606 - val_loss: 0.1646 - val_accuracy: 0.9362\n",
            "Epoch 52/100\n",
            "12/12 [==============================] - 0s 28ms/step - loss: 0.1490 - accuracy: 0.9606 - val_loss: 0.1630 - val_accuracy: 0.9362\n",
            "Epoch 53/100\n",
            "12/12 [==============================] - 0s 30ms/step - loss: 0.1472 - accuracy: 0.9606 - val_loss: 0.1614 - val_accuracy: 0.9415\n",
            "Epoch 54/100\n",
            "12/12 [==============================] - 0s 13ms/step - loss: 0.1455 - accuracy: 0.9606 - val_loss: 0.1599 - val_accuracy: 0.9415\n",
            "Epoch 55/100\n",
            "12/12 [==============================] - 0s 9ms/step - loss: 0.1439 - accuracy: 0.9633 - val_loss: 0.1583 - val_accuracy: 0.9415\n",
            "Epoch 56/100\n",
            "12/12 [==============================] - 0s 8ms/step - loss: 0.1423 - accuracy: 0.9633 - val_loss: 0.1569 - val_accuracy: 0.9415\n",
            "Epoch 57/100\n",
            "12/12 [==============================] - 0s 8ms/step - loss: 0.1407 - accuracy: 0.9633 - val_loss: 0.1555 - val_accuracy: 0.9415\n",
            "Epoch 58/100\n",
            "12/12 [==============================] - 0s 13ms/step - loss: 0.1393 - accuracy: 0.9659 - val_loss: 0.1541 - val_accuracy: 0.9415\n",
            "Epoch 59/100\n",
            "12/12 [==============================] - 0s 7ms/step - loss: 0.1378 - accuracy: 0.9659 - val_loss: 0.1528 - val_accuracy: 0.9415\n",
            "Epoch 60/100\n",
            "12/12 [==============================] - 0s 12ms/step - loss: 0.1363 - accuracy: 0.9659 - val_loss: 0.1517 - val_accuracy: 0.9415\n",
            "Epoch 61/100\n",
            "12/12 [==============================] - 0s 9ms/step - loss: 0.1350 - accuracy: 0.9659 - val_loss: 0.1504 - val_accuracy: 0.9415\n",
            "Epoch 62/100\n",
            "12/12 [==============================] - 0s 23ms/step - loss: 0.1336 - accuracy: 0.9659 - val_loss: 0.1492 - val_accuracy: 0.9468\n",
            "Epoch 63/100\n",
            "12/12 [==============================] - 0s 8ms/step - loss: 0.1323 - accuracy: 0.9659 - val_loss: 0.1481 - val_accuracy: 0.9521\n",
            "Epoch 64/100\n",
            "12/12 [==============================] - 0s 9ms/step - loss: 0.1311 - accuracy: 0.9659 - val_loss: 0.1470 - val_accuracy: 0.9521\n",
            "Epoch 65/100\n",
            "12/12 [==============================] - 0s 13ms/step - loss: 0.1298 - accuracy: 0.9685 - val_loss: 0.1459 - val_accuracy: 0.9521\n",
            "Epoch 66/100\n",
            "12/12 [==============================] - 0s 16ms/step - loss: 0.1286 - accuracy: 0.9685 - val_loss: 0.1449 - val_accuracy: 0.9521\n",
            "Epoch 67/100\n",
            "12/12 [==============================] - 0s 15ms/step - loss: 0.1274 - accuracy: 0.9685 - val_loss: 0.1438 - val_accuracy: 0.9521\n",
            "Epoch 68/100\n",
            "12/12 [==============================] - 0s 10ms/step - loss: 0.1263 - accuracy: 0.9685 - val_loss: 0.1428 - val_accuracy: 0.9521\n",
            "Epoch 69/100\n",
            "12/12 [==============================] - 0s 18ms/step - loss: 0.1252 - accuracy: 0.9685 - val_loss: 0.1418 - val_accuracy: 0.9521\n",
            "Epoch 70/100\n",
            "12/12 [==============================] - 0s 17ms/step - loss: 0.1241 - accuracy: 0.9685 - val_loss: 0.1409 - val_accuracy: 0.9521\n",
            "Epoch 71/100\n",
            "12/12 [==============================] - 0s 24ms/step - loss: 0.1230 - accuracy: 0.9685 - val_loss: 0.1400 - val_accuracy: 0.9521\n",
            "Epoch 72/100\n",
            "12/12 [==============================] - 0s 17ms/step - loss: 0.1220 - accuracy: 0.9685 - val_loss: 0.1391 - val_accuracy: 0.9521\n",
            "Epoch 73/100\n",
            "12/12 [==============================] - 0s 24ms/step - loss: 0.1209 - accuracy: 0.9685 - val_loss: 0.1382 - val_accuracy: 0.9521\n",
            "Epoch 74/100\n",
            "12/12 [==============================] - 0s 16ms/step - loss: 0.1199 - accuracy: 0.9685 - val_loss: 0.1373 - val_accuracy: 0.9521\n",
            "Epoch 75/100\n",
            "12/12 [==============================] - 0s 29ms/step - loss: 0.1190 - accuracy: 0.9685 - val_loss: 0.1365 - val_accuracy: 0.9521\n",
            "Epoch 76/100\n",
            "12/12 [==============================] - 0s 20ms/step - loss: 0.1180 - accuracy: 0.9685 - val_loss: 0.1357 - val_accuracy: 0.9521\n",
            "Epoch 77/100\n",
            "12/12 [==============================] - 0s 15ms/step - loss: 0.1171 - accuracy: 0.9685 - val_loss: 0.1349 - val_accuracy: 0.9468\n",
            "Epoch 78/100\n",
            "12/12 [==============================] - 0s 19ms/step - loss: 0.1162 - accuracy: 0.9685 - val_loss: 0.1342 - val_accuracy: 0.9521\n",
            "Epoch 79/100\n",
            "12/12 [==============================] - 0s 22ms/step - loss: 0.1153 - accuracy: 0.9685 - val_loss: 0.1335 - val_accuracy: 0.9468\n",
            "Epoch 80/100\n",
            "12/12 [==============================] - 0s 21ms/step - loss: 0.1144 - accuracy: 0.9685 - val_loss: 0.1327 - val_accuracy: 0.9468\n",
            "Epoch 81/100\n",
            "12/12 [==============================] - 0s 15ms/step - loss: 0.1136 - accuracy: 0.9685 - val_loss: 0.1320 - val_accuracy: 0.9468\n",
            "Epoch 82/100\n",
            "12/12 [==============================] - 0s 13ms/step - loss: 0.1127 - accuracy: 0.9685 - val_loss: 0.1313 - val_accuracy: 0.9468\n",
            "Epoch 83/100\n",
            "12/12 [==============================] - 0s 12ms/step - loss: 0.1119 - accuracy: 0.9685 - val_loss: 0.1306 - val_accuracy: 0.9468\n",
            "Epoch 84/100\n",
            "12/12 [==============================] - 0s 9ms/step - loss: 0.1111 - accuracy: 0.9685 - val_loss: 0.1300 - val_accuracy: 0.9521\n",
            "Epoch 85/100\n",
            "12/12 [==============================] - 0s 22ms/step - loss: 0.1103 - accuracy: 0.9685 - val_loss: 0.1294 - val_accuracy: 0.9574\n",
            "Epoch 86/100\n",
            "12/12 [==============================] - 0s 12ms/step - loss: 0.1095 - accuracy: 0.9685 - val_loss: 0.1287 - val_accuracy: 0.9574\n",
            "Epoch 87/100\n",
            "12/12 [==============================] - 0s 17ms/step - loss: 0.1088 - accuracy: 0.9711 - val_loss: 0.1281 - val_accuracy: 0.9574\n",
            "Epoch 88/100\n",
            "12/12 [==============================] - 0s 13ms/step - loss: 0.1080 - accuracy: 0.9711 - val_loss: 0.1275 - val_accuracy: 0.9574\n",
            "Epoch 89/100\n",
            "12/12 [==============================] - 0s 14ms/step - loss: 0.1073 - accuracy: 0.9711 - val_loss: 0.1269 - val_accuracy: 0.9574\n",
            "Epoch 90/100\n",
            "12/12 [==============================] - 0s 9ms/step - loss: 0.1066 - accuracy: 0.9711 - val_loss: 0.1263 - val_accuracy: 0.9574\n",
            "Epoch 91/100\n",
            "12/12 [==============================] - 0s 11ms/step - loss: 0.1059 - accuracy: 0.9711 - val_loss: 0.1257 - val_accuracy: 0.9574\n",
            "Epoch 92/100\n",
            "12/12 [==============================] - 0s 16ms/step - loss: 0.1052 - accuracy: 0.9711 - val_loss: 0.1252 - val_accuracy: 0.9574\n",
            "Epoch 93/100\n",
            "12/12 [==============================] - 0s 12ms/step - loss: 0.1045 - accuracy: 0.9711 - val_loss: 0.1247 - val_accuracy: 0.9574\n",
            "Epoch 94/100\n",
            "12/12 [==============================] - 0s 10ms/step - loss: 0.1038 - accuracy: 0.9711 - val_loss: 0.1242 - val_accuracy: 0.9574\n",
            "Epoch 95/100\n",
            "12/12 [==============================] - 0s 7ms/step - loss: 0.1032 - accuracy: 0.9711 - val_loss: 0.1236 - val_accuracy: 0.9574\n",
            "Epoch 96/100\n",
            "12/12 [==============================] - 0s 13ms/step - loss: 0.1025 - accuracy: 0.9711 - val_loss: 0.1231 - val_accuracy: 0.9574\n",
            "Epoch 97/100\n",
            "12/12 [==============================] - 0s 12ms/step - loss: 0.1019 - accuracy: 0.9711 - val_loss: 0.1226 - val_accuracy: 0.9574\n",
            "Epoch 98/100\n",
            "12/12 [==============================] - 0s 14ms/step - loss: 0.1013 - accuracy: 0.9711 - val_loss: 0.1221 - val_accuracy: 0.9574\n",
            "Epoch 99/100\n",
            "12/12 [==============================] - 0s 13ms/step - loss: 0.1006 - accuracy: 0.9711 - val_loss: 0.1217 - val_accuracy: 0.9574\n",
            "Epoch 100/100\n",
            "12/12 [==============================] - 0s 18ms/step - loss: 0.1000 - accuracy: 0.9711 - val_loss: 0.1212 - val_accuracy: 0.9574\n"
          ]
        }
      ]
    },
    {
      "cell_type": "code",
      "source": [
        "print(model.evaluate(X_test,Y_test)) #test score\n",
        "print(model.evaluate(X_train,Y_train)) #train score"
      ],
      "metadata": {
        "colab": {
          "base_uri": "https://localhost:8080/"
        },
        "id": "bq6aBTg2gs6b",
        "outputId": "92aba63c-a389-4f0d-bfb7-b54538ec2579"
      },
      "execution_count": 22,
      "outputs": [
        {
          "output_type": "stream",
          "name": "stdout",
          "text": [
            "6/6 [==============================] - 0s 3ms/step - loss: 0.1212 - accuracy: 0.9574\n",
            "[0.12120945006608963, 0.957446813583374]\n",
            "12/12 [==============================] - 0s 3ms/step - loss: 0.0997 - accuracy: 0.9711\n",
            "[0.0997050553560257, 0.9711285829544067]\n"
          ]
        }
      ]
    },
    {
      "cell_type": "code",
      "source": [
        "import matplotlib.pyplot as plt"
      ],
      "metadata": {
        "id": "__ou02q8g8Aw"
      },
      "execution_count": 23,
      "outputs": []
    },
    {
      "cell_type": "code",
      "source": [
        "plt.plot(r.history['loss'],label='loss')\n",
        "plt.plot(r.history['val_loss'],label='val_loss')\n",
        "plt.legend();"
      ],
      "metadata": {
        "colab": {
          "base_uri": "https://localhost:8080/",
          "height": 430
        },
        "id": "5v4esmOXhfp1",
        "outputId": "81fecf86-8d91-48a6-b834-6575563ec7ef"
      },
      "execution_count": 24,
      "outputs": [
        {
          "output_type": "display_data",
          "data": {
            "text/plain": [
              "<Figure size 640x480 with 1 Axes>"
            ],
            "image/png": "[encoded data removed]"
          },
          "metadata": {}
        }
      ]
    },
    {
      "cell_type": "code",
      "source": [
        "import numpy as np"
      ],
      "metadata": {
        "id": "KFreky3vLCRD"
      },
      "execution_count": 27,
      "outputs": []
    },
    {
      "cell_type": "code",
      "source": [
        "#thse are model predictions given as probailityes between 0 and 1\n",
        "# but we need to round them off to get the actual predictions and flatten them as targets are a 1Dim array but this is a 2Dim array\n",
        "# hence round and flatten them\n",
        "p = model.predict(X_test)\n",
        "p = np.round(p).flatten()\n",
        "print(p)"
      ],
      "metadata": {
        "colab": {
          "base_uri": "https://localhost:8080/"
        },
        "id": "tvp1qyVpKF8Z",
        "outputId": "401db7de-1106-4f1e-93d5-251ed10977c7"
      },
      "execution_count": 28,
      "outputs": [
        {
          "output_type": "stream",
          "name": "stdout",
          "text": [
            "6/6 [==============================] - 0s 5ms/step\n",
            "[1. 1. 0. 1. 0. 1. 1. 1. 1. 0. 1. 1. 1. 1. 0. 0. 0. 0. 0. 1. 1. 0. 0. 0.\n",
            " 1. 1. 1. 1. 0. 1. 1. 0. 1. 1. 1. 1. 0. 0. 1. 1. 1. 1. 1. 1. 1. 1. 0. 1.\n",
            " 0. 1. 1. 1. 1. 0. 1. 1. 0. 1. 1. 1. 1. 1. 1. 0. 1. 1. 1. 1. 1. 0. 0. 0.\n",
            " 0. 1. 1. 0. 0. 1. 1. 0. 1. 0. 1. 1. 0. 1. 0. 1. 0. 1. 0. 1. 0. 1. 1. 0.\n",
            " 1. 0. 1. 1. 1. 1. 1. 1. 0. 1. 0. 1. 1. 1. 0. 1. 1. 0. 1. 1. 0. 0. 0. 0.\n",
            " 1. 0. 1. 1. 0. 0. 1. 1. 1. 1. 1. 1. 0. 1. 1. 0. 1. 0. 1. 1. 1. 0. 1. 1.\n",
            " 1. 1. 1. 1. 0. 0. 1. 1. 1. 1. 0. 1. 1. 1. 1. 0. 0. 0. 1. 1. 1. 0. 0. 0.\n",
            " 0. 0. 0. 1. 1. 1. 0. 1. 1. 1. 1. 1. 1. 1. 0. 1. 1. 1. 0. 1.]\n"
          ]
        }
      ]
    },
    {
      "cell_type": "code",
      "source": [
        "print(\"manually calculated accuracy:\",np.mean(p==Y_test))\n",
        "# equal equal mtlb linear classificiation so a boolean array of true and false\n",
        "# aur fir 10001 aisi array ka mean toh accuracy aa gyi naa"
      ],
      "metadata": {
        "colab": {
          "base_uri": "https://localhost:8080/"
        },
        "id": "1-dgm1ngV6oz",
        "outputId": "6d9195a9-d195-4c97-a2e4-4db71f3a3892"
      },
      "execution_count": 35,
      "outputs": [
        {
          "output_type": "stream",
          "name": "stdout",
          "text": [
            "manually calculated accuracy: 0.9574468085106383\n"
          ]
        }
      ]
    },
    {
      "cell_type": "code",
      "source": [
        "print(\"model calculated accuracy:\",model.evaluate(X_test,Y_test))\n"
      ],
      "metadata": {
        "colab": {
          "base_uri": "https://localhost:8080/"
        },
        "id": "J06if5R6WHGP",
        "outputId": "e3a3d856-b30a-42f7-a133-0d2ab09709d3"
      },
      "execution_count": 36,
      "outputs": [
        {
          "output_type": "stream",
          "name": "stdout",
          "text": [
            "6/6 [==============================] - 0s 3ms/step - loss: 0.1212 - accuracy: 0.9574\n",
            "model calculated accuracy: [0.12120945006608963, 0.957446813583374]\n"
          ]
        }
      ]
    },
    {
      "cell_type": "code",
      "source": [
        "model.metrics_names\n",
        "# its possible that accross layers humare paas alag alag loss ho, dense_1_loss and so on acc to layers\n",
        "# but los is the cumulative of all lossess"
      ],
      "metadata": {
        "colab": {
          "base_uri": "https://localhost:8080/"
        },
        "id": "vgVtbU_3Ws6W",
        "outputId": "c45b7d56-e4ee-4ec0-833c-08e00d32d155"
      },
      "execution_count": 37,
      "outputs": [
        {
          "output_type": "execute_result",
          "data": {
            "text/plain": [
              "['loss', 'accuracy']"
            ]
          },
          "metadata": {},
          "execution_count": 37
        }
      ]
    },
    {
      "cell_type": "code",
      "source": [
        "plt.plot(r.history['accuracy'],label='accuracy')\n",
        "plt.plot(r.history['val_accuracy'],label='val_accuracy')\n",
        "plt.legend();"
      ],
      "metadata": {
        "colab": {
          "base_uri": "https://localhost:8080/",
          "height": 434
        },
        "id": "am_ZcA3TiMK6",
        "outputId": "aee97ecd-2c90-4f59-f206-876af992219c"
      },
      "execution_count": 38,
      "outputs": [
        {
          "output_type": "display_data",
          "data": {
            "text/plain": [
              "<Figure size 640x480 with 1 Axes>"
            ],
            "image/png": "[encoded data removed]"
          },
          "metadata": {}
        }
      ]
    },
    {
      "cell_type": "code",
      "source": [
        "model.save('linearClassifierSavedModel.h5')"
      ],
      "metadata": {
        "colab": {
          "base_uri": "https://localhost:8080/"
        },
        "id": "udApcnD6WGE_",
        "outputId": "aac1f6eb-8f0e-4a37-a575-b144bd89c5b2"
      },
      "execution_count": 39,
      "outputs": [
        {
          "output_type": "stream",
          "name": "stderr",
          "text": [
            "/usr/local/lib/python3.10/dist-packages/keras/src/engine/training.py:3103: UserWarning: You are saving your model as an HDF5 file via `model.save()`. This file format is considered legacy. We recommend using instead the native Keras format, e.g. `model.save('my_model.keras')`.\n",
            "  saving_api.save_model(\n"
          ]
        }
      ]
    },
    {
      "cell_type": "code",
      "source": [
        "!ls -lh"
      ],
      "metadata": {
        "colab": {
          "base_uri": "https://localhost:8080/"
        },
        "id": "ZTniuIh0hrBu",
        "outputId": "a961c755-03f0-4d9f-9a32-1e086c044e6b"
      },
      "execution_count": 40,
      "outputs": [
        {
          "output_type": "stream",
          "name": "stdout",
          "text": [
            "total 24K\n",
            "-rw-r--r-- 1 root root  20K Jan 18 07:11 linearClassifierSavedModel.h5\n",
            "drwxr-xr-x 1 root root 4.0K Jan 16 14:23 sample_data\n"
          ]
        }
      ]
    },
    {
      "cell_type": "code",
      "source": [
        "!ls"
      ],
      "metadata": {
        "colab": {
          "base_uri": "https://localhost:8080/"
        },
        "id": "ptK3uAUdaGJ5",
        "outputId": "e55bd5ad-e345-4f6f-c184-18940040f999"
      },
      "execution_count": 41,
      "outputs": [
        {
          "output_type": "stream",
          "name": "stdout",
          "text": [
            "linearClassifierSavedModel.h5  sample_data\n"
          ]
        }
      ]
    },
    {
      "cell_type": "code",
      "source": [
        "# if we define a Input layer explicitly then loading saved  model throws an error\n",
        "# but if we dont define it alag se but with dense it therows no error as such\n",
        "model = tf.keras.models.load_model('linearClassifierSavedModel.h5')\n",
        "print(model.layers)"
      ],
      "metadata": {
        "colab": {
          "base_uri": "https://localhost:8080/"
        },
        "id": "_uiUwQaEaIBa",
        "outputId": "75a1dfbf-aa91-4432-e9d9-7ee962d62d5d"
      },
      "execution_count": 42,
      "outputs": [
        {
          "output_type": "stream",
          "name": "stdout",
          "text": [
            "[<keras.src.layers.core.dense.Dense object at 0x794bcb987fa0>]\n"
          ]
        }
      ]
    },
    {
      "cell_type": "code",
      "source": [
        "model.evaluate(X_test,Y_test)"
      ],
      "metadata": {
        "colab": {
          "base_uri": "https://localhost:8080/"
        },
        "id": "iEhV8Vj0aJ_s",
        "outputId": "a3739fcb-5308-45df-9c1d-54c1fd739fd1"
      },
      "execution_count": 43,
      "outputs": [
        {
          "output_type": "stream",
          "name": "stdout",
          "text": [
            "6/6 [==============================] - 0s 4ms/step - loss: 0.1212 - accuracy: 0.9574\n"
          ]
        },
        {
          "output_type": "execute_result",
          "data": {
            "text/plain": [
              "[0.12120945006608963, 0.957446813583374]"
            ]
          },
          "metadata": {},
          "execution_count": 43
        }
      ]
    },
    {
      "cell_type": "code",
      "source": [
        "from google.colab import files\n",
        "files.download('/content/linearClassifierSavedModel.h5')"
      ],
      "metadata": {
        "colab": {
          "base_uri": "https://localhost:8080/",
          "height": 17
        },
        "id": "jQWd9pOLaUjf",
        "outputId": "60aa75b7-da86-4d51-b64e-570223b1cb75"
      },
      "execution_count": 44,
      "outputs": [
        {
          "output_type": "display_data",
          "data": {
            "text/plain": [
              "<IPython.core.display.Javascript object>"
            ],
            "application/javascript": [
              "\n",
              "    async function download(id, filename, size) {\n",
              "      if (!google.colab.kernel.accessAllowed) {\n",
              "        return;\n",
              "      }\n",
              "      const div = document.createElement('div');\n",
              "      const label = document.createElement('label');\n",
              "      label.textContent = `Downloading \"${filename}\": `;\n",
              "      div.appendChild(label);\n",
              "      const progress = document.createElement('progress');\n",
              "      progress.max = size;\n",
              "      div.appendChild(progress);\n",
              "      document.body.appendChild(div);\n",
              "\n",
              "      const buffers = [];\n",
              "      let downloaded = 0;\n",
              "\n",
              "      const channel = await google.colab.kernel.comms.open(id);\n",
              "      // Send a message to notify the kernel that we're ready.\n",
              "      channel.send({})\n",
              "\n",
              "      for await (const message of channel.messages) {\n",
              "        // Send a message to notify the kernel that we're ready.\n",
              "        channel.send({})\n",
              "        if (message.buffers) {\n",
              "          for (const buffer of message.buffers) {\n",
              "            buffers.push(buffer);\n",
              "            downloaded += buffer.byteLength;\n",
              "            progress.value = downloaded;\n",
              "          }\n",
              "        }\n",
              "      }\n",
              "      const blob = new Blob(buffers, {type: 'application/binary'});\n",
              "      const a = document.createElement('a');\n",
              "      a.href = window.URL.createObjectURL(blob);\n",
              "      a.download = filename;\n",
              "      div.appendChild(a);\n",
              "      a.click();\n",
              "      div.remove();\n",
              "    }\n",
              "  "
            ]
          },
          "metadata": {}
        },
        {
          "output_type": "display_data",
          "data": {
            "text/plain": [
              "<IPython.core.display.Javascript object>"
            ],
            "application/javascript": [
              "download(\"download_1c12b5d1-5fd0-4918-a051-e94b93175dbb\", \"linearClassifierSavedModel.h5\", 20240)"
            ]
          },
          "metadata": {}
        }
      ]
    },
    {
      "cell_type": "code",
      "source": [],
      "metadata": {
        "id": "s6chXnNDbJzF"
      },
      "execution_count": null,
      "outputs": []
    }
  ]
}