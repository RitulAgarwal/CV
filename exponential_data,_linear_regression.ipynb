{
  "nbformat": 4,
  "nbformat_minor": 0,
  "metadata": {
    "colab": {
      "provenance": []
    },
    "kernelspec": {
      "name": "python3",
      "display_name": "Python 3"
    },
    "language_info": {
      "name": "python"
    }
  },
  "cells": [
    {
      "cell_type": "code",
      "execution_count": 39,
      "metadata": {
        "id": "K0Z9COiz0OIh"
      },
      "outputs": [],
      "source": [
        "import tensorflow as tf\n",
        "import pandas as pd\n",
        "import numpy as np\n",
        "import matplotlib.pyplot as plt"
      ]
    },
    {
      "cell_type": "code",
      "source": [
        "!wget https://raw.githubusercontent.com/lazyprogrammer/machine_learning_examples/master/tf2.0/moore.csv"
      ],
      "metadata": {
        "colab": {
          "base_uri": "https://localhost:8080/"
        },
        "id": "IMNO_nvG0cvy",
        "outputId": "1671607f-f497-4c39-c59e-13d75c199903"
      },
      "execution_count": 40,
      "outputs": [
        {
          "output_type": "stream",
          "name": "stdout",
          "text": [
            "--2024-01-18 07:00:47--  https://raw.githubusercontent.com/lazyprogrammer/machine_learning_examples/master/tf2.0/moore.csv\n",
            "Resolving raw.githubusercontent.com (raw.githubusercontent.com)... 185.199.108.133, 185.199.111.133, 185.199.109.133, ...\n",
            "Connecting to raw.githubusercontent.com (raw.githubusercontent.com)|185.199.108.133|:443... connected.\n",
            "HTTP request sent, awaiting response... 200 OK\n",
            "Length: 2302 (2.2K) [text/plain]\n",
            "Saving to: ‘moore.csv.1’\n",
            "\n",
            "moore.csv.1         100%[===================>]   2.25K  --.-KB/s    in 0s      \n",
            "\n",
            "2024-01-18 07:00:47 (22.5 MB/s) - ‘moore.csv.1’ saved [2302/2302]\n",
            "\n"
          ]
        }
      ]
    },
    {
      "cell_type": "code",
      "source": [
        "#this proves that moore.csv has no headers\n",
        "!head moore.csv"
      ],
      "metadata": {
        "colab": {
          "base_uri": "https://localhost:8080/"
        },
        "id": "L1KJqa5-0ePv",
        "outputId": "72bac278-cfa4-4906-928e-7974cc2eac43"
      },
      "execution_count": 41,
      "outputs": [
        {
          "output_type": "stream",
          "name": "stdout",
          "text": [
            "1971,2300\n",
            "1972,3500\n",
            "1973,2500\n",
            "1973,2500\n",
            "1974,4100\n",
            "1974,4500\n",
            "1974,8000\n",
            "1975,3510\n",
            "1976,5000\n",
            "1976,8500\n"
          ]
        }
      ]
    },
    {
      "cell_type": "code",
      "source": [
        "data= pd.read_csv('moore.csv',header=None)#.to_numpy()"
      ],
      "metadata": {
        "id": "wKWIWDzg0r_H"
      },
      "execution_count": 42,
      "outputs": []
    },
    {
      "cell_type": "code",
      "source": [
        "data.shape"
      ],
      "metadata": {
        "colab": {
          "base_uri": "https://localhost:8080/"
        },
        "id": "k3_Ll0tT0nBA",
        "outputId": "e09ca4fe-b81f-47f4-cb1f-74ede3302802"
      },
      "execution_count": 43,
      "outputs": [
        {
          "output_type": "execute_result",
          "data": {
            "text/plain": [
              "(162, 2)"
            ]
          },
          "metadata": {},
          "execution_count": 43
        }
      ]
    },
    {
      "cell_type": "code",
      "source": [
        "type(data)"
      ],
      "metadata": {
        "colab": {
          "base_uri": "https://localhost:8080/"
        },
        "id": "fTT6iEAl0zBP",
        "outputId": "6b73765b-8c2e-4cee-b6fb-77b67a060756"
      },
      "execution_count": 44,
      "outputs": [
        {
          "output_type": "execute_result",
          "data": {
            "text/plain": [
              "pandas.core.frame.DataFrame"
            ]
          },
          "metadata": {},
          "execution_count": 44
        }
      ]
    },
    {
      "cell_type": "code",
      "source": [
        "data.to_numpy()"
      ],
      "metadata": {
        "colab": {
          "base_uri": "https://localhost:8080/"
        },
        "id": "BR2vulzd1Ob4",
        "outputId": "da7ffa5f-d051-4ac9-e460-3b8ec73e3f48"
      },
      "execution_count": 45,
      "outputs": [
        {
          "output_type": "execute_result",
          "data": {
            "text/plain": [
              "array([[       1971,        2300],\n",
              "       [       1972,        3500],\n",
              "       [       1973,        2500],\n",
              "       [       1973,        2500],\n",
              "       [       1974,        4100],\n",
              "       [       1974,        4500],\n",
              "       [       1974,        8000],\n",
              "       [       1975,        3510],\n",
              "       [       1976,        5000],\n",
              "       [       1976,        8500],\n",
              "       [       1976,        6500],\n",
              "       [       1978,        9000],\n",
              "       [       1978,       29000],\n",
              "       [       1979,       17500],\n",
              "       [       1979,       29000],\n",
              "       [       1979,       68000],\n",
              "       [       1981,       11500],\n",
              "       [       1982,       55000],\n",
              "       [       1982,      134000],\n",
              "       [       1983,       22000],\n",
              "       [       1984,       63000],\n",
              "       [       1984,      190000],\n",
              "       [       1985,      275000],\n",
              "       [       1985,       25000],\n",
              "       [       1985,       16000],\n",
              "       [       1986,      110000],\n",
              "       [       1986,      375000],\n",
              "       [       1986,       30000],\n",
              "       [       1987,      385000],\n",
              "       [       1987,      730000],\n",
              "       [       1987,      273000],\n",
              "       [       1987,      553000],\n",
              "       [       1988,      180000],\n",
              "       [       1988,      250000],\n",
              "       [       1989,      600000],\n",
              "       [       1989,     1000000],\n",
              "       [       1989,     1180235],\n",
              "       [       1989,      310000],\n",
              "       [       1990,     1200000],\n",
              "       [       1991,     1350000],\n",
              "       [       1991,       35000],\n",
              "       [       1992,      600000],\n",
              "       [       1992,      900000],\n",
              "       [       1993,     2800000],\n",
              "       [       1993,     3100000],\n",
              "       [       1994,      578977],\n",
              "       [       1994,     2500000],\n",
              "       [       1995,     2500000],\n",
              "       [       1999,      111000],\n",
              "       [       1995,     5500000],\n",
              "       [       1996,     4300000],\n",
              "       [       1997,    10000000],\n",
              "       [       1997,     7500000],\n",
              "       [       1997,     8800000],\n",
              "       [       1998,     7500000],\n",
              "       [       1999,     9500000],\n",
              "       [       1999,    13500000],\n",
              "       [       2000,    21000000],\n",
              "       [       2000,    21000000],\n",
              "       [       1999,    27400000],\n",
              "       [       1999,    21300000],\n",
              "       [       1999,    22000000],\n",
              "       [       2000,    42000000],\n",
              "       [       2001,   191000000],\n",
              "       [       2001,    45000000],\n",
              "       [       2002,    55000000],\n",
              "       [       2004,   112000000],\n",
              "       [       2004,   400000000],\n",
              "       [       2005,   169000000],\n",
              "       [       2006,   184000000],\n",
              "       [       2005,   228000000],\n",
              "       [       2006,   362000000],\n",
              "       [       2007,   540000000],\n",
              "       [       2008,    47000000],\n",
              "       [       2003,    54300000],\n",
              "       [       2003,   105900000],\n",
              "       [       2002,   220000000],\n",
              "       [       2005,   165000000],\n",
              "       [       2005,   250000000],\n",
              "       [       2006,   291000000],\n",
              "       [       2007,   169000000],\n",
              "       [       2003,   410000000],\n",
              "       [       2008,   600000000],\n",
              "       [       2009,   760000000],\n",
              "       [       2011,  1870000000],\n",
              "       [       2012,   432000000],\n",
              "       [       2007,   463000000],\n",
              "       [       2007,    26000000],\n",
              "       [       2008,   230000000],\n",
              "       [       2004,   592000000],\n",
              "       [       2007,   411000000],\n",
              "       [       2008,   731000000],\n",
              "       [       2008,   758000000],\n",
              "       [       2007,   789000000],\n",
              "       [       2009,   904000000],\n",
              "       [       2010,  1000000000],\n",
              "       [       2012,  2990000000],\n",
              "       [       2013,  1000000000],\n",
              "       [       2011,  1160000000],\n",
              "       [       2010,  1170000000],\n",
              "       [       2010,  1200000000],\n",
              "       [       2012,  1200000000],\n",
              "       [       2012,  1303000000],\n",
              "       [       2010,  1400000000],\n",
              "       [       2012,  1400000000],\n",
              "       [       2014,  1400000000],\n",
              "       [       2006,  1700000000],\n",
              "       [       2015,  1750000000],\n",
              "       [       2013,  1860000000],\n",
              "       [       2015,  1900000000],\n",
              "       [       2008,  1900000000],\n",
              "       [       2010,  2000000000],\n",
              "       [       2014,  2000000000],\n",
              "       [       2015,  2000000000],\n",
              "       [       2015,  3000000000],\n",
              "       [       2012,  2100000000],\n",
              "       [       2011,  2270000000],\n",
              "       [       2010,  2300000000],\n",
              "       [       2014,  2600000000],\n",
              "       [       2011,  2600000000],\n",
              "       [       2012,  2750000000],\n",
              "       [       2014,  3000000000],\n",
              "       [       2016,  3000000000],\n",
              "       [       2017,  5300000000],\n",
              "       [       2017,  5300000000],\n",
              "       [       2018,  8500000000],\n",
              "       [       2012,  3100000000],\n",
              "       [       2016,  3200000000],\n",
              "       [       2016,  3300000000],\n",
              "       [       2015,  3990000000],\n",
              "       [       2013,  4200000000],\n",
              "       [       2017,  4300000000],\n",
              "       [       2014,  4310000000],\n",
              "       [       2017,  4800000000],\n",
              "       [       2017,  4800000000],\n",
              "       [       2017,  4800000000],\n",
              "       [       2012,  5000000000],\n",
              "       [       2013,  5000000000],\n",
              "       [       2014,  5560000000],\n",
              "       [       2017,  6100000000],\n",
              "       [       2018,  6900000000],\n",
              "       [       2016,  4000000000],\n",
              "       [       2018,  6900000000],\n",
              "       [       2017,  5500000000],\n",
              "       [       2018,  5500000000],\n",
              "       [       2017,  7000000000],\n",
              "       [       2015,  7100000000],\n",
              "       [       2017,  8000000000],\n",
              "       [       2016,  7200000000],\n",
              "       [       2017,  8000000000],\n",
              "       [       2016,  8000000000],\n",
              "       [       2017,  9700000000],\n",
              "       [       2017,   250000000],\n",
              "       [       2015, 10000000000],\n",
              "       [       2017,  5450000000],\n",
              "       [       2018, 10000000000],\n",
              "       [       2017,  4300000000],\n",
              "       [       2017, 18000000000],\n",
              "       [       2017, 19200000000],\n",
              "       [       2018,  8876000000],\n",
              "       [       2018, 23600000000],\n",
              "       [       2018,  9000000000]])"
            ]
          },
          "metadata": {},
          "execution_count": 45
        }
      ]
    },
    {
      "cell_type": "code",
      "source": [
        "Y = data.iloc[:,1]"
      ],
      "metadata": {
        "id": "ww_Y5bII17Ds"
      },
      "execution_count": 46,
      "outputs": []
    },
    {
      "cell_type": "code",
      "source": [
        "Y"
      ],
      "metadata": {
        "colab": {
          "base_uri": "https://localhost:8080/"
        },
        "id": "aFQPgOmx3QYL",
        "outputId": "ad8f52f5-f908-4378-e8bc-c0bc79219a51"
      },
      "execution_count": 47,
      "outputs": [
        {
          "output_type": "execute_result",
          "data": {
            "text/plain": [
              "0             2300\n",
              "1             3500\n",
              "2             2500\n",
              "3             2500\n",
              "4             4100\n",
              "          ...     \n",
              "157    18000000000\n",
              "158    19200000000\n",
              "159     8876000000\n",
              "160    23600000000\n",
              "161     9000000000\n",
              "Name: 1, Length: 162, dtype: int64"
            ]
          },
          "metadata": {},
          "execution_count": 47
        }
      ]
    },
    {
      "cell_type": "code",
      "source": [
        "X = data.iloc[:,0]"
      ],
      "metadata": {
        "id": "VBKtrkky3Q9o"
      },
      "execution_count": 48,
      "outputs": []
    },
    {
      "cell_type": "code",
      "source": [
        "X"
      ],
      "metadata": {
        "colab": {
          "base_uri": "https://localhost:8080/"
        },
        "id": "VBhVvh6m366s",
        "outputId": "86c998a9-5a45-4880-de1f-47444ebf6682"
      },
      "execution_count": 49,
      "outputs": [
        {
          "output_type": "execute_result",
          "data": {
            "text/plain": [
              "0      1971\n",
              "1      1972\n",
              "2      1973\n",
              "3      1973\n",
              "4      1974\n",
              "       ... \n",
              "157    2017\n",
              "158    2017\n",
              "159    2018\n",
              "160    2018\n",
              "161    2018\n",
              "Name: 0, Length: 162, dtype: int64"
            ]
          },
          "metadata": {},
          "execution_count": 49
        }
      ]
    },
    {
      "cell_type": "code",
      "source": [
        "X.shape, Y.shape"
      ],
      "metadata": {
        "colab": {
          "base_uri": "https://localhost:8080/"
        },
        "id": "79b5wLvB37Lc",
        "outputId": "7e20afcb-6718-4606-cbb3-a26edede4d7b"
      },
      "execution_count": 50,
      "outputs": [
        {
          "output_type": "execute_result",
          "data": {
            "text/plain": [
              "((162,), (162,))"
            ]
          },
          "metadata": {},
          "execution_count": 50
        }
      ]
    },
    {
      "cell_type": "code",
      "source": [
        "plt.scatter(X,Y)"
      ],
      "metadata": {
        "colab": {
          "base_uri": "https://localhost:8080/",
          "height": 463
        },
        "id": "dL0YTuqB385I",
        "outputId": "0985c2ed-fcd2-4d08-d984-441997564d15"
      },
      "execution_count": 51,
      "outputs": [
        {
          "output_type": "execute_result",
          "data": {
            "text/plain": [
              "<matplotlib.collections.PathCollection at 0x7d4ef9a6d810>"
            ]
          },
          "metadata": {},
          "execution_count": 51
        },
        {
          "output_type": "display_data",
          "data": {
            "text/plain": [
              "<Figure size 640x480 with 1 Axes>"
            ],
            "image/png": "[encoded data removed]"
          },
          "metadata": {}
        }
      ]
    },
    {
      "cell_type": "code",
      "source": [
        "Y = np.log(Y)"
      ],
      "metadata": {
        "id": "xNaZzQ6a4DGd"
      },
      "execution_count": 52,
      "outputs": []
    },
    {
      "cell_type": "code",
      "source": [
        "plt.scatter(X,Y)"
      ],
      "metadata": {
        "colab": {
          "base_uri": "https://localhost:8080/",
          "height": 448
        },
        "id": "jWfNgmt34vGo",
        "outputId": "def6ef2b-f0d5-420c-ea01-9cc93e41c663"
      },
      "execution_count": 53,
      "outputs": [
        {
          "output_type": "execute_result",
          "data": {
            "text/plain": [
              "<matplotlib.collections.PathCollection at 0x7d4ef9ad9f60>"
            ]
          },
          "metadata": {},
          "execution_count": 53
        },
        {
          "output_type": "display_data",
          "data": {
            "text/plain": [
              "<Figure size 640x480 with 1 Axes>"
            ],
            "image/png": "[encoded data removed]"
          },
          "metadata": {}
        }
      ]
    },
    {
      "cell_type": "code",
      "source": [
        "X = X-X.mean() # we do it 0 mean---translate/shift data to form it to make 0 mean\n",
        "# if we divide by  the standard deviation then ITS BASICALLY CALLED AS STANDARDISATION and\n",
        "# if we divide then after predicting we would need to rescale it also\n",
        "#trasfrom then transform back if divide else leave it as it is by froming 0 mean"
      ],
      "metadata": {
        "id": "RHR78vhs4yKs"
      },
      "execution_count": 54,
      "outputs": []
    },
    {
      "cell_type": "code",
      "source": [
        "plt.scatter(X,Y)"
      ],
      "metadata": {
        "colab": {
          "base_uri": "https://localhost:8080/",
          "height": 448
        },
        "id": "NjMAZIRWEV9m",
        "outputId": "b03f01dd-c09b-48ad-a172-e03dbbf51e78"
      },
      "execution_count": 55,
      "outputs": [
        {
          "output_type": "execute_result",
          "data": {
            "text/plain": [
              "<matplotlib.collections.PathCollection at 0x7d4ef995dde0>"
            ]
          },
          "metadata": {},
          "execution_count": 55
        },
        {
          "output_type": "display_data",
          "data": {
            "text/plain": [
              "<Figure size 640x480 with 1 Axes>"
            ],
            "image/png": "[encoded data removed]"
          },
          "metadata": {}
        }
      ]
    },
    {
      "cell_type": "code",
      "source": [
        "model = tf.keras.models.Sequential([\n",
        "    tf.keras.layers.Dense(1,input_shape=(1,))#,activation='sigmoid')\n",
        "])"
      ],
      "metadata": {
        "id": "kMK0khmqEWUE"
      },
      "execution_count": 56,
      "outputs": []
    },
    {
      "cell_type": "code",
      "source": [
        "model.compile(optimizer = tf.keras.optimizers.SGD(0.001,0.9), # lr,momentum\n",
        "              # if used scaling then we could have used adam but beacuase not scaled\n",
        "              #--- optimisation was harder and needed to use custom optimiser to get the exact vlaues as needed\n",
        "              loss='mse'\n",
        "              # accuracy nhi kyuki yaha pe classification into labels nhi par regression h toh accuracy is a wrong metric\n",
        "              #,metrics=['accuracy']\n",
        "              )"
      ],
      "metadata": {
        "id": "I5jhnFWEFZQt"
      },
      "execution_count": 57,
      "outputs": []
    },
    {
      "cell_type": "code",
      "source": [
        "def schedule(epoch,lr):\n",
        "  if epoch>=50 : return 0.0001\n",
        "  return 0.001\n",
        "\n",
        "scheduler = tf.keras.callbacks.LearningRateScheduler(schedule)"
      ],
      "metadata": {
        "id": "QK0xV5UlHEO7"
      },
      "execution_count": 58,
      "outputs": []
    },
    {
      "cell_type": "code",
      "source": [
        "r = model.fit(X,Y,epochs = 100,callbacks=[scheduler])"
      ],
      "metadata": {
        "colab": {
          "base_uri": "https://localhost:8080/"
        },
        "id": "L4108YiwHWrT",
        "outputId": "1f3e98ce-7d44-41ad-f209-8593f09e924d"
      },
      "execution_count": 59,
      "outputs": [
        {
          "output_type": "stream",
          "name": "stdout",
          "text": [
            "Epoch 1/100\n",
            "6/6 [==============================] - 0s 3ms/step - loss: 424.4768 - lr: 0.0010\n",
            "Epoch 2/100\n",
            "6/6 [==============================] - 0s 3ms/step - loss: 306.1639 - lr: 0.0010\n",
            "Epoch 3/100\n",
            "6/6 [==============================] - 0s 3ms/step - loss: 264.1315 - lr: 0.0010\n",
            "Epoch 4/100\n",
            "6/6 [==============================] - 0s 3ms/step - loss: 370.9608 - lr: 0.0010\n",
            "Epoch 5/100\n",
            "6/6 [==============================] - 0s 3ms/step - loss: 404.2603 - lr: 0.0010\n",
            "Epoch 6/100\n",
            "6/6 [==============================] - 0s 3ms/step - loss: 333.3568 - lr: 0.0010\n",
            "Epoch 7/100\n",
            "6/6 [==============================] - 0s 3ms/step - loss: 213.5443 - lr: 0.0010\n",
            "Epoch 8/100\n",
            "6/6 [==============================] - 0s 2ms/step - loss: 239.7722 - lr: 0.0010\n",
            "Epoch 9/100\n",
            "6/6 [==============================] - 0s 3ms/step - loss: 258.9587 - lr: 0.0010\n",
            "Epoch 10/100\n",
            "6/6 [==============================] - 0s 3ms/step - loss: 280.0316 - lr: 0.0010\n",
            "Epoch 11/100\n",
            "6/6 [==============================] - 0s 2ms/step - loss: 111.9786 - lr: 0.0010\n",
            "Epoch 12/100\n",
            "6/6 [==============================] - 0s 2ms/step - loss: 35.7166 - lr: 0.0010\n",
            "Epoch 13/100\n",
            "6/6 [==============================] - 0s 3ms/step - loss: 25.3817 - lr: 0.0010\n",
            "Epoch 14/100\n",
            "6/6 [==============================] - 0s 3ms/step - loss: 15.3027 - lr: 0.0010\n",
            "Epoch 15/100\n",
            "6/6 [==============================] - 0s 3ms/step - loss: 10.1875 - lr: 0.0010\n",
            "Epoch 16/100\n",
            "6/6 [==============================] - 0s 4ms/step - loss: 10.0932 - lr: 0.0010\n",
            "Epoch 17/100\n",
            "6/6 [==============================] - 0s 3ms/step - loss: 9.2207 - lr: 0.0010\n",
            "Epoch 18/100\n",
            "6/6 [==============================] - 0s 3ms/step - loss: 7.0772 - lr: 0.0010\n",
            "Epoch 19/100\n",
            "6/6 [==============================] - 0s 4ms/step - loss: 7.4362 - lr: 0.0010\n",
            "Epoch 20/100\n",
            "6/6 [==============================] - 0s 4ms/step - loss: 3.6855 - lr: 0.0010\n",
            "Epoch 21/100\n",
            "6/6 [==============================] - 0s 3ms/step - loss: 2.6001 - lr: 0.0010\n",
            "Epoch 22/100\n",
            "6/6 [==============================] - 0s 3ms/step - loss: 1.9454 - lr: 0.0010\n",
            "Epoch 23/100\n",
            "6/6 [==============================] - 0s 3ms/step - loss: 1.5813 - lr: 0.0010\n",
            "Epoch 24/100\n",
            "6/6 [==============================] - 0s 3ms/step - loss: 1.4512 - lr: 0.0010\n",
            "Epoch 25/100\n",
            "6/6 [==============================] - 0s 3ms/step - loss: 1.4229 - lr: 0.0010\n",
            "Epoch 26/100\n",
            "6/6 [==============================] - 0s 4ms/step - loss: 1.3455 - lr: 0.0010\n",
            "Epoch 27/100\n",
            "6/6 [==============================] - 0s 4ms/step - loss: 1.2490 - lr: 0.0010\n",
            "Epoch 28/100\n",
            "6/6 [==============================] - 0s 4ms/step - loss: 1.1793 - lr: 0.0010\n",
            "Epoch 29/100\n",
            "6/6 [==============================] - 0s 3ms/step - loss: 1.0389 - lr: 0.0010\n",
            "Epoch 30/100\n",
            "6/6 [==============================] - 0s 3ms/step - loss: 0.9700 - lr: 0.0010\n",
            "Epoch 31/100\n",
            "6/6 [==============================] - 0s 3ms/step - loss: 0.9598 - lr: 0.0010\n",
            "Epoch 32/100\n",
            "6/6 [==============================] - 0s 3ms/step - loss: 0.9748 - lr: 0.0010\n",
            "Epoch 33/100\n",
            "6/6 [==============================] - 0s 3ms/step - loss: 0.9620 - lr: 0.0010\n",
            "Epoch 34/100\n",
            "6/6 [==============================] - 0s 3ms/step - loss: 1.0303 - lr: 0.0010\n",
            "Epoch 35/100\n",
            "6/6 [==============================] - 0s 3ms/step - loss: 0.9028 - lr: 0.0010\n",
            "Epoch 36/100\n",
            "6/6 [==============================] - 0s 3ms/step - loss: 0.9234 - lr: 0.0010\n",
            "Epoch 37/100\n",
            "6/6 [==============================] - 0s 3ms/step - loss: 1.0393 - lr: 0.0010\n",
            "Epoch 38/100\n",
            "6/6 [==============================] - 0s 4ms/step - loss: 1.0077 - lr: 0.0010\n",
            "Epoch 39/100\n",
            "6/6 [==============================] - 0s 3ms/step - loss: 0.9017 - lr: 0.0010\n",
            "Epoch 40/100\n",
            "6/6 [==============================] - 0s 5ms/step - loss: 1.0564 - lr: 0.0010\n",
            "Epoch 41/100\n",
            "6/6 [==============================] - 0s 4ms/step - loss: 0.8797 - lr: 0.0010\n",
            "Epoch 42/100\n",
            "6/6 [==============================] - 0s 4ms/step - loss: 0.8874 - lr: 0.0010\n",
            "Epoch 43/100\n",
            "6/6 [==============================] - 0s 3ms/step - loss: 0.8865 - lr: 0.0010\n",
            "Epoch 44/100\n",
            "6/6 [==============================] - 0s 3ms/step - loss: 0.8808 - lr: 0.0010\n",
            "Epoch 45/100\n",
            "6/6 [==============================] - 0s 3ms/step - loss: 0.8893 - lr: 0.0010\n",
            "Epoch 46/100\n",
            "6/6 [==============================] - 0s 3ms/step - loss: 0.9094 - lr: 0.0010\n",
            "Epoch 47/100\n",
            "6/6 [==============================] - 0s 3ms/step - loss: 0.9943 - lr: 0.0010\n",
            "Epoch 48/100\n",
            "6/6 [==============================] - 0s 3ms/step - loss: 0.8873 - lr: 0.0010\n",
            "Epoch 49/100\n",
            "6/6 [==============================] - 0s 3ms/step - loss: 1.0116 - lr: 0.0010\n",
            "Epoch 50/100\n",
            "6/6 [==============================] - 0s 3ms/step - loss: 1.0821 - lr: 0.0010\n",
            "Epoch 51/100\n",
            "6/6 [==============================] - 0s 2ms/step - loss: 1.3499 - lr: 1.0000e-04\n",
            "Epoch 52/100\n",
            "6/6 [==============================] - 0s 3ms/step - loss: 2.8433 - lr: 1.0000e-04\n",
            "Epoch 53/100\n",
            "6/6 [==============================] - 0s 3ms/step - loss: 1.2458 - lr: 1.0000e-04\n",
            "Epoch 54/100\n",
            "6/6 [==============================] - 0s 3ms/step - loss: 1.0089 - lr: 1.0000e-04\n",
            "Epoch 55/100\n",
            "6/6 [==============================] - 0s 3ms/step - loss: 1.0441 - lr: 1.0000e-04\n",
            "Epoch 56/100\n",
            "6/6 [==============================] - 0s 4ms/step - loss: 0.8898 - lr: 1.0000e-04\n",
            "Epoch 57/100\n",
            "6/6 [==============================] - 0s 3ms/step - loss: 0.8882 - lr: 1.0000e-04\n",
            "Epoch 58/100\n",
            "6/6 [==============================] - 0s 3ms/step - loss: 0.9408 - lr: 1.0000e-04\n",
            "Epoch 59/100\n",
            "6/6 [==============================] - 0s 4ms/step - loss: 0.9020 - lr: 1.0000e-04\n",
            "Epoch 60/100\n",
            "6/6 [==============================] - 0s 3ms/step - loss: 0.8775 - lr: 1.0000e-04\n",
            "Epoch 61/100\n",
            "6/6 [==============================] - 0s 2ms/step - loss: 0.8803 - lr: 1.0000e-04\n",
            "Epoch 62/100\n",
            "6/6 [==============================] - 0s 3ms/step - loss: 0.8683 - lr: 1.0000e-04\n",
            "Epoch 63/100\n",
            "6/6 [==============================] - 0s 3ms/step - loss: 0.8731 - lr: 1.0000e-04\n",
            "Epoch 64/100\n",
            "6/6 [==============================] - 0s 3ms/step - loss: 0.8753 - lr: 1.0000e-04\n",
            "Epoch 65/100\n",
            "6/6 [==============================] - 0s 4ms/step - loss: 0.8745 - lr: 1.0000e-04\n",
            "Epoch 66/100\n",
            "6/6 [==============================] - 0s 4ms/step - loss: 0.8723 - lr: 1.0000e-04\n",
            "Epoch 67/100\n",
            "6/6 [==============================] - 0s 4ms/step - loss: 0.8716 - lr: 1.0000e-04\n",
            "Epoch 68/100\n",
            "6/6 [==============================] - 0s 3ms/step - loss: 0.8816 - lr: 1.0000e-04\n",
            "Epoch 69/100\n",
            "6/6 [==============================] - 0s 3ms/step - loss: 0.8779 - lr: 1.0000e-04\n",
            "Epoch 70/100\n",
            "6/6 [==============================] - 0s 3ms/step - loss: 0.8780 - lr: 1.0000e-04\n",
            "Epoch 71/100\n",
            "6/6 [==============================] - 0s 3ms/step - loss: 0.8729 - lr: 1.0000e-04\n",
            "Epoch 72/100\n",
            "6/6 [==============================] - 0s 3ms/step - loss: 0.8741 - lr: 1.0000e-04\n",
            "Epoch 73/100\n",
            "6/6 [==============================] - 0s 3ms/step - loss: 0.8813 - lr: 1.0000e-04\n",
            "Epoch 74/100\n",
            "6/6 [==============================] - 0s 4ms/step - loss: 0.8706 - lr: 1.0000e-04\n",
            "Epoch 75/100\n",
            "6/6 [==============================] - 0s 3ms/step - loss: 0.8745 - lr: 1.0000e-04\n",
            "Epoch 76/100\n",
            "6/6 [==============================] - 0s 3ms/step - loss: 0.8709 - lr: 1.0000e-04\n",
            "Epoch 77/100\n",
            "6/6 [==============================] - 0s 3ms/step - loss: 0.8776 - lr: 1.0000e-04\n",
            "Epoch 78/100\n",
            "6/6 [==============================] - 0s 3ms/step - loss: 0.8824 - lr: 1.0000e-04\n",
            "Epoch 79/100\n",
            "6/6 [==============================] - 0s 3ms/step - loss: 0.8712 - lr: 1.0000e-04\n",
            "Epoch 80/100\n",
            "6/6 [==============================] - 0s 3ms/step - loss: 0.9061 - lr: 1.0000e-04\n",
            "Epoch 81/100\n",
            "6/6 [==============================] - 0s 3ms/step - loss: 0.8942 - lr: 1.0000e-04\n",
            "Epoch 82/100\n",
            "6/6 [==============================] - 0s 3ms/step - loss: 0.8703 - lr: 1.0000e-04\n",
            "Epoch 83/100\n",
            "6/6 [==============================] - 0s 4ms/step - loss: 0.9060 - lr: 1.0000e-04\n",
            "Epoch 84/100\n",
            "6/6 [==============================] - 0s 3ms/step - loss: 0.9024 - lr: 1.0000e-04\n",
            "Epoch 85/100\n",
            "6/6 [==============================] - 0s 3ms/step - loss: 0.9004 - lr: 1.0000e-04\n",
            "Epoch 86/100\n",
            "6/6 [==============================] - 0s 3ms/step - loss: 0.8659 - lr: 1.0000e-04\n",
            "Epoch 87/100\n",
            "6/6 [==============================] - 0s 3ms/step - loss: 0.8751 - lr: 1.0000e-04\n",
            "Epoch 88/100\n",
            "6/6 [==============================] - 0s 3ms/step - loss: 0.8721 - lr: 1.0000e-04\n",
            "Epoch 89/100\n",
            "6/6 [==============================] - 0s 3ms/step - loss: 0.8738 - lr: 1.0000e-04\n",
            "Epoch 90/100\n",
            "6/6 [==============================] - 0s 3ms/step - loss: 0.8718 - lr: 1.0000e-04\n",
            "Epoch 91/100\n",
            "6/6 [==============================] - 0s 3ms/step - loss: 0.8754 - lr: 1.0000e-04\n",
            "Epoch 92/100\n",
            "6/6 [==============================] - 0s 3ms/step - loss: 0.8899 - lr: 1.0000e-04\n",
            "Epoch 93/100\n",
            "6/6 [==============================] - 0s 3ms/step - loss: 0.8815 - lr: 1.0000e-04\n",
            "Epoch 94/100\n",
            "6/6 [==============================] - 0s 3ms/step - loss: 0.8778 - lr: 1.0000e-04\n",
            "Epoch 95/100\n",
            "6/6 [==============================] - 0s 3ms/step - loss: 0.8872 - lr: 1.0000e-04\n",
            "Epoch 96/100\n",
            "6/6 [==============================] - 0s 3ms/step - loss: 0.8705 - lr: 1.0000e-04\n",
            "Epoch 97/100\n",
            "6/6 [==============================] - 0s 3ms/step - loss: 0.8812 - lr: 1.0000e-04\n",
            "Epoch 98/100\n",
            "6/6 [==============================] - 0s 3ms/step - loss: 0.8741 - lr: 1.0000e-04\n",
            "Epoch 99/100\n",
            "6/6 [==============================] - 0s 3ms/step - loss: 0.8724 - lr: 1.0000e-04\n",
            "Epoch 100/100\n",
            "6/6 [==============================] - 0s 3ms/step - loss: 0.8973 - lr: 1.0000e-04\n"
          ]
        }
      ]
    },
    {
      "cell_type": "code",
      "source": [
        "plt.plot(r.history['loss'],label='loss')\n",
        "plt.legend()"
      ],
      "metadata": {
        "colab": {
          "base_uri": "https://localhost:8080/",
          "height": 448
        },
        "id": "r8UjRHYkIfp5",
        "outputId": "a6fc0755-c491-4dcb-f16e-ef27d8134038"
      },
      "execution_count": 60,
      "outputs": [
        {
          "output_type": "execute_result",
          "data": {
            "text/plain": [
              "<matplotlib.legend.Legend at 0x7d4ef99af4f0>"
            ]
          },
          "metadata": {},
          "execution_count": 60
        },
        {
          "output_type": "display_data",
          "data": {
            "text/plain": [
              "<Figure size 640x480 with 1 Axes>"
            ],
            "image/png": "[encoded data removed]"
          },
          "metadata": {}
        }
      ]
    },
    {
      "cell_type": "code",
      "source": [
        "model.layers"
      ],
      "metadata": {
        "colab": {
          "base_uri": "https://localhost:8080/"
        },
        "id": "fMGsu1dOIp-r",
        "outputId": "4608aceb-4dac-44bb-e0f0-4911b5b328c2"
      },
      "execution_count": 61,
      "outputs": [
        {
          "output_type": "execute_result",
          "data": {
            "text/plain": [
              "[<keras.src.layers.core.dense.Dense at 0x7d4ef998ed70>]"
            ]
          },
          "metadata": {},
          "execution_count": 61
        }
      ]
    },
    {
      "cell_type": "code",
      "source": [
        "model.layers[0] #as its a list"
      ],
      "metadata": {
        "colab": {
          "base_uri": "https://localhost:8080/"
        },
        "id": "85TwoeHlTp6r",
        "outputId": "2db79265-ac93-4d66-d8cc-752cc04eda45"
      },
      "execution_count": 62,
      "outputs": [
        {
          "output_type": "execute_result",
          "data": {
            "text/plain": [
              "<keras.src.layers.core.dense.Dense at 0x7d4ef998ed70>"
            ]
          },
          "metadata": {},
          "execution_count": 62
        }
      ]
    },
    {
      "cell_type": "code",
      "source": [
        "model.summary()"
      ],
      "metadata": {
        "colab": {
          "base_uri": "https://localhost:8080/"
        },
        "id": "dxkodEmhT8QP",
        "outputId": "bdd2995c-f1e7-49bc-9971-517edd3c75e6"
      },
      "execution_count": 63,
      "outputs": [
        {
          "output_type": "stream",
          "name": "stdout",
          "text": [
            "Model: \"sequential_2\"\n",
            "_________________________________________________________________\n",
            " Layer (type)                Output Shape              Param #   \n",
            "=================================================================\n",
            " dense_2 (Dense)             (None, 1)                 2         \n",
            "                                                                 \n",
            "=================================================================\n",
            "Total params: 2 (8.00 Byte)\n",
            "Trainable params: 2 (8.00 Byte)\n",
            "Non-trainable params: 0 (0.00 Byte)\n",
            "_________________________________________________________________\n"
          ]
        }
      ]
    },
    {
      "cell_type": "code",
      "source": [
        "model.layers[0].get_weights() # bascially this is our slope and bias w and b"
      ],
      "metadata": {
        "colab": {
          "base_uri": "https://localhost:8080/"
        },
        "id": "FRkIrFFGTr7X",
        "outputId": "e03b0eb0-29b7-4976-87b6-3491208f0280"
      },
      "execution_count": 64,
      "outputs": [
        {
          "output_type": "execute_result",
          "data": {
            "text/plain": [
              "[array([[0.3538345]], dtype=float32), array([17.734838], dtype=float32)]"
            ]
          },
          "metadata": {},
          "execution_count": 64
        }
      ]
    },
    {
      "cell_type": "code",
      "source": [
        "model.layers[0].get_weights()[0][0,0]"
      ],
      "metadata": {
        "colab": {
          "base_uri": "https://localhost:8080/"
        },
        "id": "KqrHreeVVRBS",
        "outputId": "e82f93e8-fefa-4e50-a155-4cd4b59a3787"
      },
      "execution_count": 65,
      "outputs": [
        {
          "output_type": "execute_result",
          "data": {
            "text/plain": [
              "0.3538345"
            ]
          },
          "metadata": {},
          "execution_count": 65
        }
      ]
    },
    {
      "cell_type": "code",
      "source": [
        "Yhat = model.predict(X).flatten()\n",
        "plt.scatter(X,Y)"
      ],
      "metadata": {
        "colab": {
          "base_uri": "https://localhost:8080/",
          "height": 466
        },
        "id": "FHTNgFCkJ4Xb",
        "outputId": "5623e621-8b4a-4ba8-8577-42107279cf66"
      },
      "execution_count": 68,
      "outputs": [
        {
          "output_type": "stream",
          "name": "stdout",
          "text": [
            "6/6 [==============================] - 0s 4ms/step\n"
          ]
        },
        {
          "output_type": "execute_result",
          "data": {
            "text/plain": [
              "[<matplotlib.lines.Line2D at 0x7d4ef861b010>]"
            ]
          },
          "metadata": {},
          "execution_count": 68
        },
        {
          "output_type": "display_data",
          "data": {
            "text/plain": [
              "<Figure size 640x480 with 1 Axes>"
            ],
            "image/png": "[encoded data removed]"
          },
          "metadata": {}
        }
      ]
    },
    {
      "cell_type": "code",
      "source": [
        "plt.scatter(X,Yhat)"
      ],
      "metadata": {
        "colab": {
          "base_uri": "https://localhost:8080/",
          "height": 448
        },
        "id": "i82a0hUtX_9s",
        "outputId": "b5b90288-d0e0-45b9-b3dd-2a3afb19c358"
      },
      "execution_count": 67,
      "outputs": [
        {
          "output_type": "execute_result",
          "data": {
            "text/plain": [
              "<matplotlib.collections.PathCollection at 0x7d4ef8fb0700>"
            ]
          },
          "metadata": {},
          "execution_count": 67
        },
        {
          "output_type": "display_data",
          "data": {
            "text/plain": [
              "<Figure size 640x480 with 1 Axes>"
            ],
            "image/png": "[encoded data removed]"
          },
          "metadata": {}
        }
      ]
    },
    {
      "cell_type": "code",
      "source": [
        "plt.scatter(X,Y)\n",
        "plt.plot(X,Yhat)"
      ],
      "metadata": {
        "colab": {
          "base_uri": "https://localhost:8080/",
          "height": 448
        },
        "id": "BLags3EdYDJh",
        "outputId": "e53299d5-c3e9-45f3-c76b-df921c5214aa"
      },
      "execution_count": 70,
      "outputs": [
        {
          "output_type": "execute_result",
          "data": {
            "text/plain": [
              "[<matplotlib.lines.Line2D at 0x7d4ef98bf7c0>]"
            ]
          },
          "metadata": {},
          "execution_count": 70
        },
        {
          "output_type": "display_data",
          "data": {
            "text/plain": [
              "<Figure size 640x480 with 1 Axes>"
            ],
            "image/png": "[encoded data removed]"
          },
          "metadata": {}
        }
      ]
    },
    {
      "cell_type": "code",
      "source": [
        "# we dont use == for accuracy of floating points as in linear regression np.mean(a==b)\n",
        "# but we use np.allclose(Y==Yhat)"
      ],
      "metadata": {
        "id": "JV-uSu_2YKnb"
      },
      "execution_count": null,
      "outputs": []
    },
    {
      "cell_type": "code",
      "source": [],
      "metadata": {
        "id": "YDl9s6pwZ6c8"
      },
      "execution_count": null,
      "outputs": []
    }
  ]
}