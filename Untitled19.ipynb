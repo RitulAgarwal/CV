{
  "nbformat": 4,
  "nbformat_minor": 0,
  "metadata": {
    "colab": {
      "provenance": []
    },
    "kernelspec": {
      "name": "python3",
      "display_name": "Python 3"
    },
    "language_info": {
      "name": "python"
    }
  },
  "cells": [
    {
      "cell_type": "code",
      "execution_count": null,
      "metadata": {
        "id": "rNlnKnvZg-ZZ"
      },
      "outputs": [],
      "source": [
        "import tensorflow as tf\n",
        "import numpy as np\n",
        "import matplotlib.pyplot as plt\n",
        "from tensorflow.keras.layers import Flatten, Dense\n",
        "from tensorflow.keras.models import Model\n",
        "from tensorflow.keras.optimizers import Adam,SGD\n",
        "from matplotlib.patches import Rectangle\n",
        "from imageio import imread\n",
        "ch = imread('/content/fish.png')"
      ]
    },
    {
      "cell_type": "code",
      "source": [],
      "metadata": {
        "id": "LIeWxPj5ky4N"
      },
      "execution_count": null,
      "outputs": []
    },
    {
      "cell_type": "code",
      "source": [],
      "metadata": {
        "id": "nqkEHKmSky8K"
      },
      "execution_count": null,
      "outputs": []
    },
    {
      "cell_type": "code",
      "source": [],
      "metadata": {
        "id": "lmqOhwYVky-_"
      },
      "execution_count": null,
      "outputs": []
    },
    {
      "cell_type": "code",
      "source": [
        "\n",
        "from skimage.transform import resize\n",
        "def imageGenerator(batch_size=32):\n",
        "    #generate batches of images and targets\n",
        "    while True:\n",
        "        #each epoch has no_of_batches\n",
        "        for _ in range(50):\n",
        "            X = np.zeros((batch_size,outDim,outDim,3))\n",
        "            Y = np.zeros((batch_size,4))\n",
        "\n",
        "            for i in range(batch_size):\n",
        "                # make the boxes and store their location in target\n",
        "                row0 = np.random.randint(outDim-h)\n",
        "                col0 = np.random.randint(outDim-w)\n",
        "             #atleast 10 size ke box ka scope dene ke liye humne yaha 90 liya h\n",
        "                row1 = row0+h\n",
        "                col1 = col0+w\n",
        "\n",
        "                if (np.random.random()<0.5):\n",
        "                  obj = np.fliplr(ch)\n",
        "                else: obj=ch\n",
        "\n",
        "\n",
        "                X[i,row0:row1, col0:col1,:] = fish[:,:,:3]\n",
        "                Y[i,0] = row0/outDim\n",
        "                Y[i,1] = col0/outDim\n",
        "                Y[i,2] = (row1-row0)/outDim\n",
        "                Y[i,3] = (col1-col0)/outDim\n",
        "\n",
        "            yield X/255,Y\n",
        ""
      ],
      "metadata": {
        "id": "XXp7vJCpkJ72"
      },
      "execution_count": null,
      "outputs": []
    },
    {
      "cell_type": "code",
      "source": [],
      "metadata": {
        "id": "OHfzA2FA3Ugv"
      },
      "execution_count": null,
      "outputs": []
    },
    {
      "cell_type": "code",
      "source": [
        "def plot_preds():\n",
        "    x = np.zeros((outDim,outDim,3))\n",
        "    row0 = np.random.randint(outDim-h)\n",
        "    col0 = np.random.randint(outDim-w)\n",
        "    row1 = row0+h\n",
        "    col1 = col0+w\n",
        "\n",
        "    if (np.random.random()<0.5):\n",
        "      obj = np.fliplr(ch)\n",
        "    else: obj=ch\n",
        "\n",
        "    x[row0:row1,col0:col1,:]= fish[:,:,:3]\n",
        "    X = np.expand_dims(x,0)/255\n",
        "\n",
        "    p = model.predict(X)[0]\n",
        "    fig,ax= plt.subplots(1)\n",
        "    ax.imshow(x)\n",
        "    rect = Rectangle(\n",
        "        (p[1]*outDim,p[0]*outDim ),\n",
        "        p[3]*outDim,p[2]*outDim,linewidth =1,edgecolor='r'    )\n",
        "    ax.add_patch(rect)\n",
        "    plt.show()\n",
        "\n"
      ],
      "metadata": {
        "id": "Kp8UCwNp3U0z"
      },
      "execution_count": null,
      "outputs": []
    }
  ]
}